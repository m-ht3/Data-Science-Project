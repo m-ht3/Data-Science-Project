{
 "cells": [
  {
   "cell_type": "code",
   "execution_count": 4,
   "metadata": {},
   "outputs": [
    {
     "data": {
      "text/html": [
       "<div>\n",
       "<style scoped>\n",
       "    .dataframe tbody tr th:only-of-type {\n",
       "        vertical-align: middle;\n",
       "    }\n",
       "\n",
       "    .dataframe tbody tr th {\n",
       "        vertical-align: top;\n",
       "    }\n",
       "\n",
       "    .dataframe thead th {\n",
       "        text-align: right;\n",
       "    }\n",
       "</style>\n",
       "<table border=\"1\" class=\"dataframe\">\n",
       "  <thead>\n",
       "    <tr style=\"text-align: right;\">\n",
       "      <th></th>\n",
       "      <th>title</th>\n",
       "      <th>score</th>\n",
       "      <th>id</th>\n",
       "      <th>url</th>\n",
       "      <th>comms_num</th>\n",
       "      <th>created</th>\n",
       "      <th>body</th>\n",
       "      <th>timestamp</th>\n",
       "    </tr>\n",
       "  </thead>\n",
       "  <tbody>\n",
       "    <tr>\n",
       "      <th>0</th>\n",
       "      <td>It's not about the money, it's about sending a...</td>\n",
       "      <td>55</td>\n",
       "      <td>l6ulcx</td>\n",
       "      <td>https://v.redd.it/6j75regs72e61</td>\n",
       "      <td>6</td>\n",
       "      <td>1.611863e+09</td>\n",
       "      <td>NaN</td>\n",
       "      <td>2021-01-28 21:37:41</td>\n",
       "    </tr>\n",
       "    <tr>\n",
       "      <th>1</th>\n",
       "      <td>Math Professor Scott Steiner says the numbers ...</td>\n",
       "      <td>110</td>\n",
       "      <td>l6uibd</td>\n",
       "      <td>https://v.redd.it/ah50lyny62e61</td>\n",
       "      <td>23</td>\n",
       "      <td>1.611862e+09</td>\n",
       "      <td>NaN</td>\n",
       "      <td>2021-01-28 21:32:10</td>\n",
       "    </tr>\n",
       "    <tr>\n",
       "      <th>2</th>\n",
       "      <td>Exit the system</td>\n",
       "      <td>0</td>\n",
       "      <td>l6uhhn</td>\n",
       "      <td>https://www.reddit.com/r/wallstreetbets/commen...</td>\n",
       "      <td>47</td>\n",
       "      <td>1.611862e+09</td>\n",
       "      <td>The CEO of NASDAQ pushed to halt trading “to g...</td>\n",
       "      <td>2021-01-28 21:30:35</td>\n",
       "    </tr>\n",
       "    <tr>\n",
       "      <th>3</th>\n",
       "      <td>NEW SEC FILING FOR GME! CAN SOMEONE LESS RETAR...</td>\n",
       "      <td>29</td>\n",
       "      <td>l6ugk6</td>\n",
       "      <td>https://sec.report/Document/0001193125-21-019848/</td>\n",
       "      <td>74</td>\n",
       "      <td>1.611862e+09</td>\n",
       "      <td>NaN</td>\n",
       "      <td>2021-01-28 21:28:57</td>\n",
       "    </tr>\n",
       "    <tr>\n",
       "      <th>4</th>\n",
       "      <td>Not to distract from GME, just thought our AMC...</td>\n",
       "      <td>71</td>\n",
       "      <td>l6ufgy</td>\n",
       "      <td>https://i.redd.it/4h2sukb662e61.jpg</td>\n",
       "      <td>156</td>\n",
       "      <td>1.611862e+09</td>\n",
       "      <td>NaN</td>\n",
       "      <td>2021-01-28 21:26:56</td>\n",
       "    </tr>\n",
       "  </tbody>\n",
       "</table>\n",
       "</div>"
      ],
      "text/plain": [
       "                                               title  score      id  \\\n",
       "0  It's not about the money, it's about sending a...     55  l6ulcx   \n",
       "1  Math Professor Scott Steiner says the numbers ...    110  l6uibd   \n",
       "2                                    Exit the system      0  l6uhhn   \n",
       "3  NEW SEC FILING FOR GME! CAN SOMEONE LESS RETAR...     29  l6ugk6   \n",
       "4  Not to distract from GME, just thought our AMC...     71  l6ufgy   \n",
       "\n",
       "                                                 url  comms_num       created  \\\n",
       "0                    https://v.redd.it/6j75regs72e61          6  1.611863e+09   \n",
       "1                    https://v.redd.it/ah50lyny62e61         23  1.611862e+09   \n",
       "2  https://www.reddit.com/r/wallstreetbets/commen...         47  1.611862e+09   \n",
       "3  https://sec.report/Document/0001193125-21-019848/         74  1.611862e+09   \n",
       "4                https://i.redd.it/4h2sukb662e61.jpg        156  1.611862e+09   \n",
       "\n",
       "                                                body            timestamp  \n",
       "0                                                NaN  2021-01-28 21:37:41  \n",
       "1                                                NaN  2021-01-28 21:32:10  \n",
       "2  The CEO of NASDAQ pushed to halt trading “to g...  2021-01-28 21:30:35  \n",
       "3                                                NaN  2021-01-28 21:28:57  \n",
       "4                                                NaN  2021-01-28 21:26:56  "
      ]
     },
     "execution_count": 4,
     "metadata": {},
     "output_type": "execute_result"
    }
   ],
   "source": [
    "import pandas as pd\n",
    "import seaborn as sns\n",
    "\n",
    "posts = pd.read_csv(\"reddit_wsb.csv\")\n",
    "posts.head()"
   ]
  },
  {
   "cell_type": "code",
   "execution_count": 7,
   "metadata": {},
   "outputs": [
    {
     "data": {
      "text/html": [
       "<div>\n",
       "<style scoped>\n",
       "    .dataframe tbody tr th:only-of-type {\n",
       "        vertical-align: middle;\n",
       "    }\n",
       "\n",
       "    .dataframe tbody tr th {\n",
       "        vertical-align: top;\n",
       "    }\n",
       "\n",
       "    .dataframe thead th {\n",
       "        text-align: right;\n",
       "    }\n",
       "</style>\n",
       "<table border=\"1\" class=\"dataframe\">\n",
       "  <thead>\n",
       "    <tr style=\"text-align: right;\">\n",
       "      <th></th>\n",
       "      <th>Ticker</th>\n",
       "      <th>Name</th>\n",
       "    </tr>\n",
       "  </thead>\n",
       "  <tbody>\n",
       "    <tr>\n",
       "      <th>0</th>\n",
       "      <td>$AACG</td>\n",
       "      <td>ATA Creativity Global American Depositary</td>\n",
       "    </tr>\n",
       "    <tr>\n",
       "      <th>1</th>\n",
       "      <td>$AACI</td>\n",
       "      <td>Armada Acquisition</td>\n",
       "    </tr>\n",
       "    <tr>\n",
       "      <th>2</th>\n",
       "      <td>$AACIU</td>\n",
       "      <td>Armada Acquisition</td>\n",
       "    </tr>\n",
       "    <tr>\n",
       "      <th>3</th>\n",
       "      <td>$AACIW</td>\n",
       "      <td>Armada Acquisition</td>\n",
       "    </tr>\n",
       "    <tr>\n",
       "      <th>4</th>\n",
       "      <td>$AADI</td>\n",
       "      <td>Aadi Bioscience</td>\n",
       "    </tr>\n",
       "  </tbody>\n",
       "</table>\n",
       "</div>"
      ],
      "text/plain": [
       "   Ticker                                       Name\n",
       "0   $AACG  ATA Creativity Global American Depositary\n",
       "1   $AACI                         Armada Acquisition\n",
       "2  $AACIU                         Armada Acquisition\n",
       "3  $AACIW                         Armada Acquisition\n",
       "4   $AADI                            Aadi Bioscience"
      ]
     },
     "execution_count": 7,
     "metadata": {},
     "output_type": "execute_result"
    }
   ],
   "source": [
    "df = pd.read_csv(\"nasdaq_screener_1647879349140.csv\")\n",
    "names = [df[\"Name\"].str.split()]\n",
    "cleaned = []\n",
    "\n",
    "for name in names:\n",
    "    list_remove = [\"Corporation\", \"Common\", \"Stock\", \"Inc.\", \"Inc\", \"A\", \"Corp.\", \"Ltd.\", \"Systems\", \"Shares\", \"Holdings\", \"Class\", \"Limited\", \"Co.\", \"INC.\", \"Holding\", \"I\", \"Unit\", \"Warrant\"]\n",
    "    for element in name:\n",
    "        name_new = []\n",
    "        for word in element:\n",
    "            if word not in list_remove:\n",
    "                name_new.append(word)\n",
    "        cleaned.append(\" \".join(name_new))\n",
    "\n",
    "ticker_name = []\n",
    "ticker_df = pd.DataFrame()\n",
    "for name in cleaned:\n",
    "    ticker_name.append(name)\n",
    "ticker_df[\"Ticker\"] = '$' + df[\"Symbol\"]\n",
    "ticker_df[\"Name\"] = ticker_name\n",
    "ticker_list = ticker_name\n",
    "ticker_set = set()\n",
    "for element in ticker_df['Ticker']:\n",
    "    ticker_set.add(element)\n",
    "for element in ticker_df['Name']:\n",
    "    ticker_set.add(element)\n",
    "ticker_set.add(\"NOK\")\n",
    "ticker_set.add(\"GME\")\n",
    "ticker_set.add(\"AMC\")\n",
    "ticker_set.add(\"AYX\")\n",
    "\n",
    "ticker_df.head()"
   ]
  },
  {
   "cell_type": "code",
   "execution_count": 8,
   "metadata": {},
   "outputs": [],
   "source": [
    "posts_viral = posts[posts[\"score\"] >= 50000].copy()\n",
    "posts_viral[\"Viral\"] = 1\n",
    "posts_nonviral = posts[posts[\"score\"] < 50000].copy()\n",
    "posts_nonviral[\"Viral\"] = 0\n",
    "posts_labeled = pd.concat([posts_viral, posts_nonviral])"
   ]
  },
  {
   "cell_type": "code",
   "execution_count": 9,
   "metadata": {},
   "outputs": [
    {
     "data": {
      "text/html": [
       "<div>\n",
       "<style scoped>\n",
       "    .dataframe tbody tr th:only-of-type {\n",
       "        vertical-align: middle;\n",
       "    }\n",
       "\n",
       "    .dataframe tbody tr th {\n",
       "        vertical-align: top;\n",
       "    }\n",
       "\n",
       "    .dataframe thead th {\n",
       "        text-align: right;\n",
       "    }\n",
       "</style>\n",
       "<table border=\"1\" class=\"dataframe\">\n",
       "  <thead>\n",
       "    <tr style=\"text-align: right;\">\n",
       "      <th></th>\n",
       "      <th>title</th>\n",
       "      <th>score</th>\n",
       "      <th>id</th>\n",
       "      <th>url</th>\n",
       "      <th>comms_num</th>\n",
       "      <th>created</th>\n",
       "      <th>body</th>\n",
       "      <th>timestamp</th>\n",
       "      <th>Viral</th>\n",
       "    </tr>\n",
       "  </thead>\n",
       "  <tbody>\n",
       "    <tr>\n",
       "      <th>118</th>\n",
       "      <td>HOORAY FOR CHARLES PAYNE! “The shorts have had...</td>\n",
       "      <td>52047</td>\n",
       "      <td>l6popa</td>\n",
       "      <td>https://i.redd.it/nhc2rhacl0e61.jpg</td>\n",
       "      <td>1514</td>\n",
       "      <td>1.611843e+09</td>\n",
       "      <td>NaN</td>\n",
       "      <td>2021-01-28 16:08:22</td>\n",
       "      <td>1</td>\n",
       "    </tr>\n",
       "    <tr>\n",
       "      <th>128</th>\n",
       "      <td>An Open Letter to Melvin Capital, CNBC, Boomer...</td>\n",
       "      <td>65148</td>\n",
       "      <td>l6omry</td>\n",
       "      <td>https://www.reddit.com/r/wallstreetbets/commen...</td>\n",
       "      <td>4480</td>\n",
       "      <td>1.611839e+09</td>\n",
       "      <td>**Mods do not delete, this is important to me...</td>\n",
       "      <td>2021-01-28 15:06:14</td>\n",
       "      <td>1</td>\n",
       "    </tr>\n",
       "    <tr>\n",
       "      <th>155</th>\n",
       "      <td>WSB'S REVENGE - CALLING ALL 🦍🦍🦍 TO KEEP YOUR 🍌...</td>\n",
       "      <td>77324</td>\n",
       "      <td>l6mwjk</td>\n",
       "      <td>https://v.redd.it/3s5ue35dtzd61</td>\n",
       "      <td>2469</td>\n",
       "      <td>1.611834e+09</td>\n",
       "      <td>NaN</td>\n",
       "      <td>2021-01-28 13:32:49</td>\n",
       "      <td>1</td>\n",
       "    </tr>\n",
       "    <tr>\n",
       "      <th>182</th>\n",
       "      <td>None of these individuals are part of Wallstre...</td>\n",
       "      <td>52137</td>\n",
       "      <td>l6k3pi</td>\n",
       "      <td>https://twitter.com/stoolpresidente/status/135...</td>\n",
       "      <td>6063</td>\n",
       "      <td>1.611825e+09</td>\n",
       "      <td>NaN</td>\n",
       "      <td>2021-01-28 11:16:15</td>\n",
       "      <td>1</td>\n",
       "    </tr>\n",
       "    <tr>\n",
       "      <th>194</th>\n",
       "      <td>Can we all take a moment and appreciate the Mo...</td>\n",
       "      <td>160999</td>\n",
       "      <td>l6jobf</td>\n",
       "      <td>https://www.reddit.com/r/wallstreetbets/commen...</td>\n",
       "      <td>6515</td>\n",
       "      <td>1.611824e+09</td>\n",
       "      <td>NaN</td>\n",
       "      <td>2021-01-28 10:57:32</td>\n",
       "      <td>1</td>\n",
       "    </tr>\n",
       "  </tbody>\n",
       "</table>\n",
       "</div>"
      ],
      "text/plain": [
       "                                                 title   score      id  \\\n",
       "118  HOORAY FOR CHARLES PAYNE! “The shorts have had...   52047  l6popa   \n",
       "128  An Open Letter to Melvin Capital, CNBC, Boomer...   65148  l6omry   \n",
       "155  WSB'S REVENGE - CALLING ALL 🦍🦍🦍 TO KEEP YOUR 🍌...   77324  l6mwjk   \n",
       "182  None of these individuals are part of Wallstre...   52137  l6k3pi   \n",
       "194  Can we all take a moment and appreciate the Mo...  160999  l6jobf   \n",
       "\n",
       "                                                   url  comms_num  \\\n",
       "118                https://i.redd.it/nhc2rhacl0e61.jpg       1514   \n",
       "128  https://www.reddit.com/r/wallstreetbets/commen...       4480   \n",
       "155                    https://v.redd.it/3s5ue35dtzd61       2469   \n",
       "182  https://twitter.com/stoolpresidente/status/135...       6063   \n",
       "194  https://www.reddit.com/r/wallstreetbets/commen...       6515   \n",
       "\n",
       "          created                                               body  \\\n",
       "118  1.611843e+09                                                NaN   \n",
       "128  1.611839e+09   **Mods do not delete, this is important to me...   \n",
       "155  1.611834e+09                                                NaN   \n",
       "182  1.611825e+09                                                NaN   \n",
       "194  1.611824e+09                                                NaN   \n",
       "\n",
       "               timestamp  Viral  \n",
       "118  2021-01-28 16:08:22      1  \n",
       "128  2021-01-28 15:06:14      1  \n",
       "155  2021-01-28 13:32:49      1  \n",
       "182  2021-01-28 11:16:15      1  \n",
       "194  2021-01-28 10:57:32      1  "
      ]
     },
     "execution_count": 9,
     "metadata": {},
     "output_type": "execute_result"
    }
   ],
   "source": [
    "posts_labeled.head()"
   ]
  },
  {
   "cell_type": "code",
   "execution_count": 10,
   "metadata": {},
   "outputs": [
    {
     "data": {
      "text/html": [
       "<div>\n",
       "<style scoped>\n",
       "    .dataframe tbody tr th:only-of-type {\n",
       "        vertical-align: middle;\n",
       "    }\n",
       "\n",
       "    .dataframe tbody tr th {\n",
       "        vertical-align: top;\n",
       "    }\n",
       "\n",
       "    .dataframe thead th {\n",
       "        text-align: right;\n",
       "    }\n",
       "</style>\n",
       "<table border=\"1\" class=\"dataframe\">\n",
       "  <thead>\n",
       "    <tr style=\"text-align: right;\">\n",
       "      <th></th>\n",
       "      <th>title</th>\n",
       "      <th>score</th>\n",
       "      <th>id</th>\n",
       "      <th>url</th>\n",
       "      <th>comms_num</th>\n",
       "      <th>created</th>\n",
       "      <th>body</th>\n",
       "      <th>timestamp</th>\n",
       "      <th>Viral</th>\n",
       "      <th>Combined</th>\n",
       "      <th>Ticker</th>\n",
       "    </tr>\n",
       "  </thead>\n",
       "  <tbody>\n",
       "    <tr>\n",
       "      <th>136</th>\n",
       "      <td>I’m so fucking proud of every single person in...</td>\n",
       "      <td>27451</td>\n",
       "      <td>l6ocfn</td>\n",
       "      <td>https://www.reddit.com/r/wallstreetbets/commen...</td>\n",
       "      <td>1471</td>\n",
       "      <td>1.611838e+09</td>\n",
       "      <td>This probably won’t get anywhere and I don’t c...</td>\n",
       "      <td>2021-01-28 14:50:34</td>\n",
       "      <td>1</td>\n",
       "      <td>I’m so fucking proud of every single person in...</td>\n",
       "      <td>GME</td>\n",
       "    </tr>\n",
       "    <tr>\n",
       "      <th>199</th>\n",
       "      <td>Why AMC, Blackberry, Nok went down during afte...</td>\n",
       "      <td>32730</td>\n",
       "      <td>l6ji9t</td>\n",
       "      <td>https://www.reddit.com/r/wallstreetbets/commen...</td>\n",
       "      <td>3876</td>\n",
       "      <td>1.611824e+09</td>\n",
       "      <td>Hedge fund managers, Short sellers, and Market...</td>\n",
       "      <td>2021-01-28 10:50:38</td>\n",
       "      <td>1</td>\n",
       "      <td>Why AMC, Blackberry, Nok went down during afte...</td>\n",
       "      <td>AMC</td>\n",
       "    </tr>\n",
       "    <tr>\n",
       "      <th>15993</th>\n",
       "      <td>I just bought $5,000 in $GME. I would not have...</td>\n",
       "      <td>73278</td>\n",
       "      <td>l78fuh</td>\n",
       "      <td>https://www.reddit.com/r/wallstreetbets/commen...</td>\n",
       "      <td>5293</td>\n",
       "      <td>1.611896e+09</td>\n",
       "      <td>I've been following /r/wallstreetbets for year...</td>\n",
       "      <td>2021-01-29 06:52:00</td>\n",
       "      <td>1</td>\n",
       "      <td>I just bought $5,000 in $GME. I would not have...</td>\n",
       "      <td>GME</td>\n",
       "    </tr>\n",
       "    <tr>\n",
       "      <th>16009</th>\n",
       "      <td>GME YOLO update — Jan 28 2021</td>\n",
       "      <td>225870</td>\n",
       "      <td>l78uct</td>\n",
       "      <td>https://i.redd.it/opzucppb15e61.png</td>\n",
       "      <td>23309</td>\n",
       "      <td>1.611897e+09</td>\n",
       "      <td></td>\n",
       "      <td>2021-01-29 07:06:23</td>\n",
       "      <td>1</td>\n",
       "      <td>GME YOLO update — Jan 28 2021</td>\n",
       "      <td>GME</td>\n",
       "    </tr>\n",
       "    <tr>\n",
       "      <th>16091</th>\n",
       "      <td>We cant let WSB get political no matter what</td>\n",
       "      <td>32053</td>\n",
       "      <td>l7ixaz</td>\n",
       "      <td>https://www.reddit.com/r/wallstreetbets/commen...</td>\n",
       "      <td>1881</td>\n",
       "      <td>1.611923e+09</td>\n",
       "      <td>I know everyone is excited about all the atten...</td>\n",
       "      <td>2021-01-29 14:16:46</td>\n",
       "      <td>1</td>\n",
       "      <td>We cant let WSB get political no matter what I...</td>\n",
       "      <td>GME</td>\n",
       "    </tr>\n",
       "  </tbody>\n",
       "</table>\n",
       "</div>"
      ],
      "text/plain": [
       "                                                   title   score      id  \\\n",
       "136    I’m so fucking proud of every single person in...   27451  l6ocfn   \n",
       "199    Why AMC, Blackberry, Nok went down during afte...   32730  l6ji9t   \n",
       "15993  I just bought $5,000 in $GME. I would not have...   73278  l78fuh   \n",
       "16009                      GME YOLO update — Jan 28 2021  225870  l78uct   \n",
       "16091       We cant let WSB get political no matter what   32053  l7ixaz   \n",
       "\n",
       "                                                     url  comms_num  \\\n",
       "136    https://www.reddit.com/r/wallstreetbets/commen...       1471   \n",
       "199    https://www.reddit.com/r/wallstreetbets/commen...       3876   \n",
       "15993  https://www.reddit.com/r/wallstreetbets/commen...       5293   \n",
       "16009                https://i.redd.it/opzucppb15e61.png      23309   \n",
       "16091  https://www.reddit.com/r/wallstreetbets/commen...       1881   \n",
       "\n",
       "            created                                               body  \\\n",
       "136    1.611838e+09  This probably won’t get anywhere and I don’t c...   \n",
       "199    1.611824e+09  Hedge fund managers, Short sellers, and Market...   \n",
       "15993  1.611896e+09  I've been following /r/wallstreetbets for year...   \n",
       "16009  1.611897e+09                                                      \n",
       "16091  1.611923e+09  I know everyone is excited about all the atten...   \n",
       "\n",
       "                 timestamp  Viral  \\\n",
       "136    2021-01-28 14:50:34      1   \n",
       "199    2021-01-28 10:50:38      1   \n",
       "15993  2021-01-29 06:52:00      1   \n",
       "16009  2021-01-29 07:06:23      1   \n",
       "16091  2021-01-29 14:16:46      1   \n",
       "\n",
       "                                                Combined Ticker  \n",
       "136    I’m so fucking proud of every single person in...    GME  \n",
       "199    Why AMC, Blackberry, Nok went down during afte...    AMC  \n",
       "15993  I just bought $5,000 in $GME. I would not have...    GME  \n",
       "16009                     GME YOLO update — Jan 28 2021     GME  \n",
       "16091  We cant let WSB get political no matter what I...    GME  "
      ]
     },
     "execution_count": 10,
     "metadata": {},
     "output_type": "execute_result"
    }
   ],
   "source": [
    "from datetime import datetime, timedelta\n",
    "from yahoofinancials import YahooFinancials\n",
    "import re\n",
    "import string\n",
    "\n",
    "def pre_processing(df, threshold):\n",
    "    posts_viral = df[df[\"score\"] >= threshold].copy()\n",
    "    posts_viral[\"Viral\"] = 1\n",
    "    posts_nonviral = df[df[\"score\"] < threshold].copy()\n",
    "    posts_nonviral[\"Viral\"] = 0\n",
    "    posts_labeled = pd.concat([posts_viral, posts_nonviral])\n",
    "    posts_labeled = posts_labeled.fillna(value=\"\")\n",
    "    posts_labeled[\"Combined\"] = posts_labeled[\"title\"] + \" \" + posts_labeled[\"body\"]\n",
    "    return posts_labeled\n",
    "\n",
    "def post_to_list(post):\n",
    "    return post.split()\n",
    "\n",
    "def post_to_set(post):\n",
    "    regex = re.compile('[%s]' % re.escape(string.punctuation))\n",
    "    post = regex.sub(\"\", post)\n",
    "    return set(post.split())\n",
    "    \n",
    "def bag_of_words(posts):\n",
    "    dictionary = {}\n",
    "    for post in posts:\n",
    "        word_list = post_to_list(post)\n",
    "        for word in word_list:\n",
    "            if word not in dictionary:\n",
    "                dictionary[word] = len(dictionary)\n",
    "    return dictionary\n",
    "\n",
    "def feature_vector(posts, dictionary):\n",
    "    feature_matrix = np.zeroes([len(posts), len(dictionary)], dtype=np.float64)\n",
    "    for i, post in enumerate(posts):\n",
    "        word_list = post_to_list(post)\n",
    "        for word in word_list:\n",
    "            if word in dictionary:\n",
    "                feature_matrix[i, dictionary[word]] += 1\n",
    "    return feature_matrix\n",
    "\n",
    "def get_prices_df(ticker, start, end):\n",
    "    t = YahooFinancials(ticker)\n",
    "    data = t.get_historical_price_data(start_date=start, end_date=end, time_interval=\"daily\")\n",
    "    df = pd.DataFrame()\n",
    "    # if 'dividends' in data[ticker]['eventsData'].keys():\n",
    "    df = pd.DataFrame(data[ticker]['prices'])\n",
    "    df = df.drop('date', axis=1).set_index('formatted_date')\n",
    "    df[\"Return\"] = df[\"adjclose\"]/df[\"adjclose\"].shift(1) - 1\n",
    "    \n",
    "    return df\n",
    "\n",
    "def get_returns(ticker, date, returns_df):\n",
    "    start = date\n",
    "    end = date + 1 # next day\n",
    "    return returns_df[returns_df[\"Ticker\"] == ticker & returns_df[\"Date\"] == date][\"Returns\"]\n",
    "\n",
    "def extract_tickers(posts):\n",
    "    tickers_list = []\n",
    "    for i, post in enumerate(posts[\"Combined\"]):\n",
    "        tickers = set(post_to_set(post)).intersection(ticker_set)\n",
    "        tickers_list.append([element for element in tickers])\n",
    "    posts[\"Ticker\"] = tickers_list\n",
    "    return posts\n",
    "\n",
    "posts = pre_processing(posts, 25000)\n",
    "posts = extract_tickers(posts)\n",
    "\n",
    "# Filter for posts including only one stock for training data\n",
    "posts_stocks_mentioned = posts[[len(ticker_set) == 1 for ticker_set in posts[\"Ticker\"]]].copy()\n",
    "\n",
    "posts_stocks_mentioned[\"Ticker\"] = posts_stocks_mentioned[\"Ticker\"].str[0]\n",
    "\n",
    "def format_ticker(ser):\n",
    "    x = ser\n",
    "    if not ser.str.isupper().iloc[0]:\n",
    "        ticker = ser.iloc[0]\n",
    "        x = ticker_df[ticker_df[\"Name\"] == ticker]['Ticker'].values[0]\n",
    "    return x\n",
    "    \n",
    "posts_stocks_mentioned['Ticker'] = posts_stocks_mentioned.groupby('Ticker')['Ticker'].transform(format_ticker)\n",
    "posts_stocks_mentioned.head()"
   ]
  },
  {
   "cell_type": "code",
   "execution_count": 11,
   "metadata": {},
   "outputs": [],
   "source": [
    "def filter_pop(x):\n",
    "    return x['Ticker'].count() >= 10\n",
    "\n",
    "top_50 = posts_stocks_mentioned.groupby('Ticker')['Ticker'].count().sort_values(ascending=False)[0:50]\n",
    "keys = set(top_50.index)\n",
    "\n",
    "# Filter by the stocks that have 10 or more posts\n",
    "top = posts_stocks_mentioned.groupby('Ticker').filter(filter_pop)\n",
    "keys = set(top['Ticker'])"
   ]
  },
  {
   "cell_type": "code",
   "execution_count": 12,
   "metadata": {},
   "outputs": [],
   "source": [
    "stock_price_dict = {}\n",
    "\n",
    "for ticker in keys:\n",
    "    filt = posts_stocks_mentioned[posts_stocks_mentioned[\"Ticker\"] == ticker]\n",
    "    start = filt[\"timestamp\"].min()\n",
    "    start = datetime.fromisoformat(start) - timedelta(days=10)\n",
    "    start = start.isoformat()[0:10]\n",
    "    end = filt[\"timestamp\"].max()\n",
    "    end = datetime.fromisoformat(end) + timedelta(days=10)\n",
    "    end = end.isoformat()[0:10]\n",
    "    prices_df = get_prices_df(ticker.lstrip('$'), start, end)\n",
    "    \n",
    "    stock_price_dict[ticker] = prices_df"
   ]
  },
  {
   "cell_type": "code",
   "execution_count": 13,
   "metadata": {},
   "outputs": [],
   "source": [
    "dates_list = top['timestamp'].values\n",
    "t_list = top['Ticker'].values\n",
    "\n",
    "returns = []\n",
    "\n",
    "for i in range(len(dates_list)):\n",
    "    ticker = t_list[i]\n",
    "    prices = stock_price_dict[ticker]\n",
    "    date = datetime.fromisoformat(dates_list[i]).date()\n",
    "    while date.isoformat() not in prices.index and date.isoformat() <= prices.index.max():\n",
    "        date = date + timedelta(days=1)\n",
    "    returns.append(prices['Return'].loc[date.isoformat()])\n",
    "    \n",
    "top['returns'] = returns\n",
    "ls = []\n",
    "for ret in top['returns']:\n",
    "    if ret >= 0:\n",
    "        ls.append(1)\n",
    "    else:\n",
    "        ls.append(0)\n",
    "\n",
    "top['Positive Predictive Value'] = ls"
   ]
  },
  {
   "cell_type": "code",
   "execution_count": 33,
   "metadata": {},
   "outputs": [
    {
     "data": {
      "text/html": [
       "<div>\n",
       "<style scoped>\n",
       "    .dataframe tbody tr th:only-of-type {\n",
       "        vertical-align: middle;\n",
       "    }\n",
       "\n",
       "    .dataframe tbody tr th {\n",
       "        vertical-align: top;\n",
       "    }\n",
       "\n",
       "    .dataframe thead th {\n",
       "        text-align: right;\n",
       "    }\n",
       "</style>\n",
       "<table border=\"1\" class=\"dataframe\">\n",
       "  <thead>\n",
       "    <tr style=\"text-align: right;\">\n",
       "      <th></th>\n",
       "      <th>title</th>\n",
       "      <th>score</th>\n",
       "      <th>id</th>\n",
       "      <th>url</th>\n",
       "      <th>comms_num</th>\n",
       "      <th>created</th>\n",
       "      <th>body</th>\n",
       "      <th>timestamp</th>\n",
       "      <th>Viral</th>\n",
       "      <th>Combined</th>\n",
       "      <th>Ticker</th>\n",
       "      <th>returns</th>\n",
       "      <th>Positive Predictive Value</th>\n",
       "      <th>word map</th>\n",
       "      <th>Sentiment</th>\n",
       "    </tr>\n",
       "  </thead>\n",
       "  <tbody>\n",
       "    <tr>\n",
       "      <th>136</th>\n",
       "      <td>I’m so fucking proud of every single person in...</td>\n",
       "      <td>27451</td>\n",
       "      <td>l6ocfn</td>\n",
       "      <td>https://www.reddit.com/r/wallstreetbets/commen...</td>\n",
       "      <td>1471</td>\n",
       "      <td>1.611838e+09</td>\n",
       "      <td>This probably won’t get anywhere and I don’t c...</td>\n",
       "      <td>2021-01-28 14:50:34</td>\n",
       "      <td>1</td>\n",
       "      <td>I’m so fucking proud of every single person in...</td>\n",
       "      <td>GME</td>\n",
       "      <td>-0.442894</td>\n",
       "      <td>0</td>\n",
       "      <td>{'I’m': 2, 'so': 1, 'fucking': 4, 'proud': 3, ...</td>\n",
       "      <td>83</td>\n",
       "    </tr>\n",
       "    <tr>\n",
       "      <th>199</th>\n",
       "      <td>Why AMC, Blackberry, Nok went down during afte...</td>\n",
       "      <td>32730</td>\n",
       "      <td>l6ji9t</td>\n",
       "      <td>https://www.reddit.com/r/wallstreetbets/commen...</td>\n",
       "      <td>3876</td>\n",
       "      <td>1.611824e+09</td>\n",
       "      <td>Hedge fund managers, Short sellers, and Market...</td>\n",
       "      <td>2021-01-28 10:50:38</td>\n",
       "      <td>1</td>\n",
       "      <td>Why AMC, Blackberry, Nok went down during afte...</td>\n",
       "      <td>AMC</td>\n",
       "      <td>-0.566332</td>\n",
       "      <td>0</td>\n",
       "      <td>{'Why': 1, 'AMC': 1, 'Blackberry': 1, 'Nok': 1...</td>\n",
       "      <td>84</td>\n",
       "    </tr>\n",
       "    <tr>\n",
       "      <th>15993</th>\n",
       "      <td>I just bought $5,000 in $GME. I would not have...</td>\n",
       "      <td>73278</td>\n",
       "      <td>l78fuh</td>\n",
       "      <td>https://www.reddit.com/r/wallstreetbets/commen...</td>\n",
       "      <td>5293</td>\n",
       "      <td>1.611896e+09</td>\n",
       "      <td>I've been following /r/wallstreetbets for year...</td>\n",
       "      <td>2021-01-29 06:52:00</td>\n",
       "      <td>1</td>\n",
       "      <td>I just bought $5,000 in $GME. I would not have...</td>\n",
       "      <td>GME</td>\n",
       "      <td>0.678719</td>\n",
       "      <td>1</td>\n",
       "      <td>{'I': 10, 'just': 2, 'bought': 2, '5000': 1, '...</td>\n",
       "      <td>80</td>\n",
       "    </tr>\n",
       "    <tr>\n",
       "      <th>16009</th>\n",
       "      <td>GME YOLO update — Jan 28 2021</td>\n",
       "      <td>225870</td>\n",
       "      <td>l78uct</td>\n",
       "      <td>https://i.redd.it/opzucppb15e61.png</td>\n",
       "      <td>23309</td>\n",
       "      <td>1.611897e+09</td>\n",
       "      <td></td>\n",
       "      <td>2021-01-29 07:06:23</td>\n",
       "      <td>1</td>\n",
       "      <td>GME YOLO update — Jan 28 2021</td>\n",
       "      <td>GME</td>\n",
       "      <td>0.678719</td>\n",
       "      <td>1</td>\n",
       "      <td>{'GME': 1, 'YOLO': 1, 'update': 1, '—': 1, 'Ja...</td>\n",
       "      <td>86</td>\n",
       "    </tr>\n",
       "    <tr>\n",
       "      <th>16091</th>\n",
       "      <td>We cant let WSB get political no matter what</td>\n",
       "      <td>32053</td>\n",
       "      <td>l7ixaz</td>\n",
       "      <td>https://www.reddit.com/r/wallstreetbets/commen...</td>\n",
       "      <td>1881</td>\n",
       "      <td>1.611923e+09</td>\n",
       "      <td>I know everyone is excited about all the atten...</td>\n",
       "      <td>2021-01-29 14:16:46</td>\n",
       "      <td>1</td>\n",
       "      <td>We cant let WSB get political no matter what I...</td>\n",
       "      <td>GME</td>\n",
       "      <td>0.678719</td>\n",
       "      <td>1</td>\n",
       "      <td>{'We': 2, 'cant': 1, 'let': 2, 'WSB': 2, 'get'...</td>\n",
       "      <td>78</td>\n",
       "    </tr>\n",
       "  </tbody>\n",
       "</table>\n",
       "</div>"
      ],
      "text/plain": [
       "                                                   title   score      id  \\\n",
       "136    I’m so fucking proud of every single person in...   27451  l6ocfn   \n",
       "199    Why AMC, Blackberry, Nok went down during afte...   32730  l6ji9t   \n",
       "15993  I just bought $5,000 in $GME. I would not have...   73278  l78fuh   \n",
       "16009                      GME YOLO update — Jan 28 2021  225870  l78uct   \n",
       "16091       We cant let WSB get political no matter what   32053  l7ixaz   \n",
       "\n",
       "                                                     url  comms_num  \\\n",
       "136    https://www.reddit.com/r/wallstreetbets/commen...       1471   \n",
       "199    https://www.reddit.com/r/wallstreetbets/commen...       3876   \n",
       "15993  https://www.reddit.com/r/wallstreetbets/commen...       5293   \n",
       "16009                https://i.redd.it/opzucppb15e61.png      23309   \n",
       "16091  https://www.reddit.com/r/wallstreetbets/commen...       1881   \n",
       "\n",
       "            created                                               body  \\\n",
       "136    1.611838e+09  This probably won’t get anywhere and I don’t c...   \n",
       "199    1.611824e+09  Hedge fund managers, Short sellers, and Market...   \n",
       "15993  1.611896e+09  I've been following /r/wallstreetbets for year...   \n",
       "16009  1.611897e+09                                                      \n",
       "16091  1.611923e+09  I know everyone is excited about all the atten...   \n",
       "\n",
       "                 timestamp  Viral  \\\n",
       "136    2021-01-28 14:50:34      1   \n",
       "199    2021-01-28 10:50:38      1   \n",
       "15993  2021-01-29 06:52:00      1   \n",
       "16009  2021-01-29 07:06:23      1   \n",
       "16091  2021-01-29 14:16:46      1   \n",
       "\n",
       "                                                Combined Ticker   returns  \\\n",
       "136    I’m so fucking proud of every single person in...    GME -0.442894   \n",
       "199    Why AMC, Blackberry, Nok went down during afte...    AMC -0.566332   \n",
       "15993  I just bought $5,000 in $GME. I would not have...    GME  0.678719   \n",
       "16009                     GME YOLO update — Jan 28 2021     GME  0.678719   \n",
       "16091  We cant let WSB get political no matter what I...    GME  0.678719   \n",
       "\n",
       "       Positive Predictive Value  \\\n",
       "136                            0   \n",
       "199                            0   \n",
       "15993                          1   \n",
       "16009                          1   \n",
       "16091                          1   \n",
       "\n",
       "                                                word map  Sentiment  \n",
       "136    {'I’m': 2, 'so': 1, 'fucking': 4, 'proud': 3, ...         83  \n",
       "199    {'Why': 1, 'AMC': 1, 'Blackberry': 1, 'Nok': 1...         84  \n",
       "15993  {'I': 10, 'just': 2, 'bought': 2, '5000': 1, '...         80  \n",
       "16009  {'GME': 1, 'YOLO': 1, 'update': 1, '—': 1, 'Ja...         86  \n",
       "16091  {'We': 2, 'cant': 1, 'let': 2, 'WSB': 2, 'get'...         78  "
      ]
     },
     "execution_count": 33,
     "metadata": {},
     "output_type": "execute_result"
    }
   ],
   "source": [
    "import numpy as np\n",
    "\n",
    "with open(\"negative_words.txt\") as f:\n",
    "    raw_text_neg = f.readlines()\n",
    "\n",
    "neg_set = set()\n",
    "for line in raw_text_neg:\n",
    "    neg_set.add(line.rstrip(\"\\n\"))\n",
    "    \n",
    "with open(\"positive_words.txt\") as f:\n",
    "    raw_text_pos = f.readlines()\n",
    "\n",
    "pos_set = set()\n",
    "for line in raw_text_pos:\n",
    "    pos_set.add(line.rstrip(\"\\n\"))\n",
    "\n",
    "r_specific_pos = {\n",
    "    \"moon\",\n",
    "    \"highs\",\n",
    "    \"mooning\",\n",
    "    \"long\",\n",
    "    \"call\",\n",
    "    \"calls\",\n",
    "    \"break\", \n",
    "    \"tendie\",\n",
    "    \"tendies\",\n",
    "    \"town\", \n",
    "    \"undervalued\",\n",
    "    \"buy\", \n",
    "    \"bullish\", \n",
    "    \"stonk\", \n",
    "    \"green\", \n",
    "    \"money\", \n",
    "    \"print\", \n",
    "    \"rocket\", \n",
    "    \"bull\", \n",
    "    \"upgrade\", \n",
    "    \"hot\", \n",
    "    \"crack\",\n",
    "}\n",
    "\n",
    "r_specific_neg = {\n",
    "    \"citron\",\n",
    "    \"hidenburg\",\n",
    "    \"short\",\n",
    "    \"put\",\n",
    "    \"puts\",\n",
    "    \"overvalued\",\n",
    "    \"sell\",\n",
    "    \"gone\",\n",
    "    \"gtfo\",\n",
    "    \"paper\",\n",
    "    \"bearish\",\n",
    "    \"bagholder\",\n",
    "    \"bear\",\n",
    "    \"pumping\",\n",
    "    \"sus\",\n",
    "    \"offering\",\n",
    "    \"rip\",\n",
    "    \"downgrade\",\n",
    "    \"drop\",\n",
    "    \"dump\"\n",
    "}\n",
    "\n",
    "pos_set = pos_set.union(r_specific_pos)\n",
    "neg_set = neg_set.union(r_specific_neg)\n",
    "\n",
    "@np.vectorize\n",
    "def score_sentiment(dict):\n",
    "    count = 0\n",
    "    for key in dict.keys():\n",
    "        neg = key in neg_set\n",
    "        pos = key in pos_set\n",
    "        if not (neg and pos):\n",
    "            if neg:\n",
    "                count -= dict.get(key)\n",
    "            elif pos:\n",
    "                count += dict.get(key)\n",
    "    return count\n",
    "\n",
    "def process(post):\n",
    "    regex = re.compile('[%s]' % re.escape(string.punctuation))\n",
    "    post = regex.sub(\"\", post)\n",
    "    emoj = re.compile(\"[\"\n",
    "        u\"\\U0001F600-\\U0001F64F\"  # emoticons\n",
    "        u\"\\U0001F300-\\U0001F5FF\"  # symbols & pictographs\n",
    "        u\"\\U0001F680-\\U0001F6FF\"  # transport & map symbols\n",
    "        u\"\\U0001F1E0-\\U0001F1FF\"  # flags (iOS)\n",
    "        u\"\\U00002500-\\U00002BEF\"  # chinese char\n",
    "        u\"\\U00002702-\\U000027B0\"\n",
    "        u\"\\U00002702-\\U000027B0\"\n",
    "        u\"\\U000024C2-\\U0001F251\"\n",
    "        u\"\\U0001f926-\\U0001f937\"\n",
    "        u\"\\U00010000-\\U0010ffff\"\n",
    "        u\"\\u2640-\\u2642\" \n",
    "        u\"\\u2600-\\u2B55\"\n",
    "        u\"\\u200d\"\n",
    "        u\"\\u23cf\"\n",
    "        u\"\\u23e9\"\n",
    "        u\"\\u231a\"\n",
    "        u\"\\ufe0f\"  # dingbats\n",
    "        u\"\\u3030\"\n",
    "                      \"]+\", re.UNICODE)\n",
    "    return re.sub(emoj, \"\", post)\n",
    "\n",
    "def frequency_map(post):\n",
    "    post = process(post)\n",
    "    word_list = post.split(\" \")\n",
    "    freq = {}\n",
    "    for word in word_list:\n",
    "        val = freq.get(word)\n",
    "        if val == None:\n",
    "            freq[word] = 1\n",
    "        else:\n",
    "            freq[word] = val + 1\n",
    "    return freq\n",
    "\n",
    "top[\"word map\"] = [frequency_map(post) for post in top[\"Combined\"]]\n",
    "top[\"Sentiment\"] = score_sentiment(top['word map'])\n",
    "top[\"Sentiment\"] = top[\"Sentiment\"] + np.abs(top[\"Sentiment\"].min())\n",
    "top.head()"
   ]
  },
  {
   "cell_type": "code",
   "execution_count": 87,
   "metadata": {},
   "outputs": [],
   "source": [
    "from sklearn.model_selection import train_test_split\n",
    "from sklearn.feature_extraction.text import CountVectorizer\n",
    "from sklearn.naive_bayes import MultinomialNB\n",
    "from sklearn.pipeline import make_pipeline\n",
    "from sklearn.metrics import accuracy_score\n",
    "from sklearn.metrics import plot_confusion_matrix\n",
    "from sklearn.metrics import precision_score\n",
    "from sklearn.metrics import recall_score\n",
    "from sklearn.metrics import f1_score\n",
    "from sklearn.model_selection import cross_validate\n",
    "from sklearn.model_selection import GridSearchCV\n",
    "from sklearn.neighbors import KNeighborsClassifier\n",
    "\n",
    "def get_metrics(model, test_data, y_test, y_pred, Flag=True):\n",
    "    print(accuracy_score(y_test, y_pred), \": is the accuracy score\")\n",
    "    print(precision_score(y_test, y_pred), \": is the precision score\")\n",
    "    print(recall_score(y_test, y_pred), \": is the recall score\")\n",
    "    print(f1_score(y_test, y_pred), \": is the f1 score\")\n",
    "    if(Flag):\n",
    "        plot_confusion_matrix(model, test_data, y_test)"
   ]
  },
  {
   "cell_type": "markdown",
   "metadata": {},
   "source": [
    "### MultinomialNB Naive Bayes Classifier for Predicting Whether Post Content Has A Buy or Sell Sentiment"
   ]
  },
  {
   "cell_type": "code",
   "execution_count": 26,
   "metadata": {},
   "outputs": [
    {
     "name": "stdout",
     "output_type": "stream",
     "text": [
      "0.619157848324515 : is the accuracy score\n",
      "0.6274930960417306 : is the precision score\n",
      "0.799296462771155 : is the recall score\n",
      "0.7030511388053288 : is the f1 score\n"
     ]
    },
    {
     "data": {
      "image/png": "[encoded data removed]",
      "text/plain": [
       "<Figure size 432x288 with 2 Axes>"
      ]
     },
     "metadata": {
      "needs_background": "light"
     },
     "output_type": "display_data"
    }
   ],
   "source": [
    "NB_model = make_pipeline(CountVectorizer(binary=True, stop_words='english', min_df=50), MultinomialNB())\n",
    "data = top['Combined']\n",
    "\n",
    "train_data, test_data, train_target, test_target = train_test_split(\n",
    "    data, top['Positive Predictive Value'], test_size=0.7, random_state=216)\n",
    "\n",
    "NB_model.fit(train_data, train_target)\n",
    "predicted = NB_model.predict(test_data)\n",
    "get_metrics(NB_model, test_data, test_target, predicted)"
   ]
  },
  {
   "cell_type": "markdown",
   "metadata": {},
   "source": [
    "### Hyperparameter Tuning with GridSearchCV for MultinomialNB model"
   ]
  },
  {
   "cell_type": "code",
   "execution_count": 27,
   "metadata": {},
   "outputs": [
    {
     "name": "stdout",
     "output_type": "stream",
     "text": [
      "Fitting 10 folds for each of 100 candidates, totalling 1000 fits\n"
     ]
    },
    {
     "name": "stderr",
     "output_type": "stream",
     "text": [
      "[Parallel(n_jobs=-1)]: Using backend LokyBackend with 8 concurrent workers.\n",
      "[Parallel(n_jobs=-1)]: Done  56 tasks      | elapsed:    0.2s\n",
      "[Parallel(n_jobs=-1)]: Done 960 tasks      | elapsed:    1.7s\n",
      "[Parallel(n_jobs=-1)]: Done 1000 out of 1000 | elapsed:    1.8s finished\n"
     ]
    },
    {
     "name": "stdout",
     "output_type": "stream",
     "text": [
      "0.6124338624338624 : is the accuracy score\n",
      "0.6261225775957145 : is the precision score\n",
      "0.7766269298417041 : is the recall score\n",
      "0.6933007676203768 : is the f1 score\n"
     ]
    },
    {
     "data": {
      "image/png": "[encoded data removed]",
      "text/plain": [
       "<Figure size 432x288 with 2 Axes>"
      ]
     },
     "metadata": {
      "needs_background": "light"
     },
     "output_type": "display_data"
    }
   ],
   "source": [
    "param_grid_nb = {\n",
    "    'alpha': np.logspace(0,-9, num=100)\n",
    "}\n",
    "\n",
    "text_counter=CountVectorizer(binary=True, stop_words='english', min_df=50)\n",
    "vectorized_data = text_counter.fit_transform(top['Combined'].values)\n",
    "train_data, test_data, train_target, test_target = train_test_split(\n",
    "    vectorized_data, top['Positive Predictive Value'], test_size=0.7, random_state=216)\n",
    "\n",
    "nbModel_grid = GridSearchCV(estimator=MultinomialNB(), param_grid=param_grid_nb, verbose=1, cv=10, n_jobs=-1)\n",
    "nbModel_grid.fit(train_data, train_target)\n",
    "y_pred = nbModel_grid.predict(test_data)\n",
    "\n",
    "get_metrics(nbModel_grid, test_data, test_target, y_pred)"
   ]
  },
  {
   "cell_type": "markdown",
   "metadata": {},
   "source": [
    "### Naive Bayes Model with Post Score and Number of Comments as Additional Features\n",
    "Adding more information actually worsened the model, possibly due to overfitting."
   ]
  },
  {
   "cell_type": "code",
   "execution_count": 28,
   "metadata": {
    "scrolled": true
   },
   "outputs": [
    {
     "name": "stdout",
     "output_type": "stream",
     "text": [
      "0.5859788359788359 : is the accuracy score\n",
      "0.5892224990166514 : is the precision score\n",
      "0.8782489740082079 : is the recall score\n",
      "0.7052730696798494 : is the f1 score\n"
     ]
    },
    {
     "data": {
      "image/png": "[encoded data removed]",
      "text/plain": [
       "<Figure size 432x288 with 2 Axes>"
      ]
     },
     "metadata": {
      "needs_background": "light"
     },
     "output_type": "display_data"
    }
   ],
   "source": [
    "param_grid_nb = {\n",
    "    'alpha': np.logspace(0,-9, num=100)\n",
    "}\n",
    "\n",
    "text_counter = CountVectorizer(binary=True, stop_words='english', min_df=50)\n",
    "vectorized_data = text_counter.fit_transform(top['Combined'].values)\n",
    "data = np.append(vectorized_data.toarray(), top[['comms_num', 'score']].values, axis=1)\n",
    "train_data, test_data, train_target, test_target = train_test_split(\n",
    "    data, top['Positive Predictive Value'], test_size=0.7, random_state=216)\n",
    "\n",
    "nbModelInfo_grid = GridSearchCV(estimator=MultinomialNB(), param_grid=param_grid_nb, verbose=0, cv=10, n_jobs=-1)\n",
    "nbModelInfo_grid.fit(train_data, train_target)\n",
    "y_pred = nbModelInfo_grid.predict(test_data)\n",
    "\n",
    "get_metrics(nbModelInfo_grid, test_data, test_target, y_pred)"
   ]
  },
  {
   "cell_type": "markdown",
   "metadata": {},
   "source": [
    "### Naive Bayes with Sentiment as Additional Feature\n",
    "Again, adding this feature did not help."
   ]
  },
  {
   "cell_type": "code",
   "execution_count": 57,
   "metadata": {},
   "outputs": [
    {
     "name": "stdout",
     "output_type": "stream",
     "text": [
      "Fitting 10 folds for each of 100 candidates, totalling 1000 fits\n"
     ]
    },
    {
     "name": "stderr",
     "output_type": "stream",
     "text": [
      "[Parallel(n_jobs=-1)]: Using backend LokyBackend with 8 concurrent workers.\n",
      "[Parallel(n_jobs=-1)]: Done  34 tasks      | elapsed:    2.5s\n",
      "[Parallel(n_jobs=-1)]: Done 184 tasks      | elapsed:   12.1s\n",
      "[Parallel(n_jobs=-1)]: Done 434 tasks      | elapsed:   27.0s\n",
      "[Parallel(n_jobs=-1)]: Done 784 tasks      | elapsed:   47.6s\n",
      "[Parallel(n_jobs=-1)]: Done 1000 out of 1000 | elapsed:   57.9s finished\n"
     ]
    },
    {
     "name": "stdout",
     "output_type": "stream",
     "text": [
      "0.5943562610229277 : is the accuracy score\n",
      "0.6076404494382023 : is the precision score\n",
      "0.7926519444987298 : is the recall score\n",
      "0.6879240162822253 : is the f1 score\n"
     ]
    },
    {
     "data": {
      "image/png": "[encoded data removed]",
      "text/plain": [
       "<Figure size 432x288 with 2 Axes>"
      ]
     },
     "metadata": {
      "needs_background": "light"
     },
     "output_type": "display_data"
    }
   ],
   "source": [
    "param_grid_nb = {\n",
    "    'alpha': np.logspace(0,-9, num=100)\n",
    "}\n",
    "\n",
    "text_counter=CountVectorizer(binary=True, stop_words='english', min_df=50)\n",
    "vectorized_data = text_counter.fit_transform(top['Combined'].values)\n",
    "data = np.append(vectorized_data.toarray(), top[['Sentiment']].values, axis=1)\n",
    "train_data, test_data, train_target, test_target = train_test_split(\n",
    "    data, top['Positive Predictive Value'], test_size=0.7, random_state=216)\n",
    "\n",
    "nbModel_grid = GridSearchCV(estimator=MultinomialNB(), param_grid=param_grid_nb, verbose=1, cv=10, n_jobs=-1)\n",
    "nbModel_grid.fit(train_data, train_target)\n",
    "y_test = test_target\n",
    "y_pred = nbModel_grid.predict(test_data)\n",
    "\n",
    "get_metrics(nbModel_grid, test_data, y_test, y_pred)"
   ]
  },
  {
   "cell_type": "markdown",
   "metadata": {},
   "source": [
    "### Naive Bayes with Viral as Additional Input"
   ]
  },
  {
   "cell_type": "code",
   "execution_count": 147,
   "metadata": {},
   "outputs": [
    {
     "name": "stdout",
     "output_type": "stream",
     "text": [
      "Fitting 10 folds for each of 100 candidates, totalling 1000 fits\n"
     ]
    },
    {
     "name": "stderr",
     "output_type": "stream",
     "text": [
      "[Parallel(n_jobs=-1)]: Using backend LokyBackend with 8 concurrent workers.\n",
      "[Parallel(n_jobs=-1)]: Done  34 tasks      | elapsed:    8.2s\n",
      "[Parallel(n_jobs=-1)]: Done 184 tasks      | elapsed:   17.2s\n",
      "[Parallel(n_jobs=-1)]: Done 434 tasks      | elapsed:   33.7s\n",
      "[Parallel(n_jobs=-1)]: Done 784 tasks      | elapsed:   53.8s\n",
      "[Parallel(n_jobs=-1)]: Done 1000 out of 1000 | elapsed:  1.1min finished\n"
     ]
    },
    {
     "name": "stdout",
     "output_type": "stream",
     "text": [
      "0.6124338624338624 : is the accuracy score\n",
      "0.6263614838200473 : is the precision score\n",
      "0.7754543677936291 : is the recall score\n",
      "0.6929793922458958 : is the f1 score\n"
     ]
    },
    {
     "data": {
      "image/png": "[encoded data removed]",
      "text/plain": [
       "<Figure size 432x288 with 2 Axes>"
      ]
     },
     "metadata": {
      "needs_background": "light"
     },
     "output_type": "display_data"
    }
   ],
   "source": [
    "param_grid_nb = {\n",
    "    'alpha': np.logspace(0,-9, num=100)\n",
    "}\n",
    "\n",
    "text_counter=CountVectorizer(binary=True, stop_words='english', min_df=50)\n",
    "vectorized_data = text_counter.fit_transform(top['Combined'].values)\n",
    "data = np.append(vectorized_data.toarray(), top[['Viral']].values, axis=1)\n",
    "train_data, test_data, train_target, test_target = train_test_split(\n",
    "    data, top['Positive Predictive Value'], test_size=0.7, random_state=216)\n",
    "\n",
    "nbModel_grid = GridSearchCV(estimator=MultinomialNB(), param_grid=param_grid_nb, verbose=1, cv=10, n_jobs=-1)\n",
    "nbModel_grid.fit(train_data, train_target)\n",
    "y_test = test_target\n",
    "y_pred = nbModel_grid.predict(test_data)\n",
    "\n",
    "get_metrics(nbModel_grid, test_data, y_test, y_pred)"
   ]
  },
  {
   "cell_type": "code",
   "execution_count": 54,
   "metadata": {},
   "outputs": [
    {
     "name": "stdout",
     "output_type": "stream",
     "text": [
      "0.6048280423280423 : is the accuracy score\n",
      "0.6290866194809572 : is the precision score\n",
      "0.7295290209106898 : is the recall score\n",
      "0.6755949687811058 : is the f1 score\n"
     ]
    },
    {
     "data": {
      "image/png": "[encoded data removed]",
      "text/plain": [
       "<Figure size 432x288 with 2 Axes>"
      ]
     },
     "metadata": {
      "needs_background": "light"
     },
     "output_type": "display_data"
    }
   ],
   "source": [
    "from sklearn.linear_model import LogisticRegression\n",
    "logistic_model = make_pipeline(CountVectorizer(binary=True, stop_words='english', min_df=50), LogisticRegression())\n",
    "data = top['Combined']\n",
    "\n",
    "train_data, test_data, train_target, test_target = train_test_split(\n",
    "    data, top['Positive Predictive Value'], test_size=0.7, random_state=216)\n",
    "\n",
    "logistic_model.fit(train_data, train_target)\n",
    "y_pred = logistic_model.predict(test_data)\n",
    "\n",
    "get_metrics(logistic_model, test_data, test_target, y_pred)"
   ]
  },
  {
   "cell_type": "markdown",
   "metadata": {},
   "source": [
    "### K Nearest Neighbors Classifier for Whether Stock Will go Up or Down"
   ]
  },
  {
   "cell_type": "code",
   "execution_count": 55,
   "metadata": {},
   "outputs": [
    {
     "name": "stdout",
     "output_type": "stream",
     "text": [
      "0.5844356261022927 : is the accuracy score\n",
      "0.5895016611295681 : is the precision score\n",
      "0.8669142075434825 : is the recall score\n",
      "0.7017876918209144 : is the f1 score\n"
     ]
    },
    {
     "data": {
      "image/png": "[encoded data removed]",
      "text/plain": [
       "<Figure size 432x288 with 2 Axes>"
      ]
     },
     "metadata": {
      "needs_background": "light"
     },
     "output_type": "display_data"
    }
   ],
   "source": [
    "text_counter=CountVectorizer(binary=True, stop_words='english', min_df=50)\n",
    "vectorized_data = text_counter.fit_transform(top['Combined'].values)\n",
    "train_data, test_data, train_target, test_target = train_test_split(\n",
    "    vectorized_data, top['Positive Predictive Value'], test_size=0.7, random_state=216)\n",
    "\n",
    "KN_model = GridSearchCV(estimator=KNeighborsClassifier(), param_grid={'n_neighbors': range(1, 30)})\n",
    "KN_model.fit(train_data, train_target)\n",
    "y_pred = KN_model.predict(test_data)\n",
    "get_metrics(KN_model, test_data, test_target, y_pred)"
   ]
  },
  {
   "cell_type": "markdown",
   "metadata": {},
   "source": [
    "### Predicting Whether a Post Containing a Stock Will go Viral"
   ]
  },
  {
   "cell_type": "code",
   "execution_count": 58,
   "metadata": {},
   "outputs": [
    {
     "name": "stdout",
     "output_type": "stream",
     "text": [
      "0.8851410934744268 : is the accuracy score\n",
      "0.10770577933450087 : is the precision score\n",
      "0.8424657534246576 : is the recall score\n",
      "0.19099378881987578 : is the f1 score\n"
     ]
    },
    {
     "data": {
      "image/png": "[encoded data removed]",
      "text/plain": [
       "<Figure size 432x288 with 2 Axes>"
      ]
     },
     "metadata": {
      "needs_background": "light"
     },
     "output_type": "display_data"
    }
   ],
   "source": [
    "NB_model_viral = MultinomialNB()\n",
    "text_counter=CountVectorizer(binary=True, stop_words='english', min_df=50)\n",
    "vectorized_data = text_counter.fit_transform(top['Combined'].values)\n",
    "data = np.append(vectorized_data.toarray(), top[['comms_num', 'score']].values, axis=1)\n",
    "\n",
    "train_data, test_data, train_target, test_target = train_test_split(\n",
    "    data, top['Viral'], test_size=0.7, random_state=216)\n",
    "\n",
    "NB_model_viral.fit(train_data, train_target)\n",
    "y_pred = NB_model_viral.predict(test_data)\n",
    "\n",
    "get_metrics(NB_model_viral, test_data, test_target, y_pred)"
   ]
  },
  {
   "cell_type": "markdown",
   "metadata": {},
   "source": [
    "### K Nearest Neighbor Classifier Taking only Post Content and Sentiment as Input"
   ]
  },
  {
   "cell_type": "code",
   "execution_count": null,
   "metadata": {},
   "outputs": [],
   "source": [
    "text_counter=CountVectorizer(binary=True, stop_words='english', min_df=50)\n",
    "vectorized_data = text_counter.fit_transform(top['Combined'].values)\n",
    "data = np.append(vectorized_data.toarray(), OneHotEncoder().fit_transform(top['Predicted Sentiment'].values.reshape(-1, 1)).toarray(), axis=1)\n",
    "train_data, test_data, train_target, test_target = train_test_split(\n",
    "    data, top['Viral'], test_size=0.7, random_state=216)\n",
    "\n",
    "KN_model = GridSearchCV(estimator=KNeighborsClassifier(), param_grid={'n_neighbors': range(1, 30)})\n",
    "KN_model.fit(train_data, train_target)\n",
    "y_pred = KN_model.predict(test_data)\n",
    "get_metrics(KN_model, test_data, test_target, y_pred)"
   ]
  },
  {
   "cell_type": "markdown",
   "metadata": {},
   "source": [
    "### K Nearest Neighbor Classifier to Determine Whether Post will go Viral with Sentiment as Added Input"
   ]
  },
  {
   "cell_type": "code",
   "execution_count": 146,
   "metadata": {},
   "outputs": [
    {
     "name": "stdout",
     "output_type": "stream",
     "text": [
      "0.9987874779541446 : is the accuracy score\n",
      "0.9927007299270073 : is the precision score\n",
      "0.9315068493150684 : is the recall score\n",
      "0.96113074204947 : is the f1 score\n"
     ]
    },
    {
     "data": {
      "image/png": "[encoded data removed]",
      "text/plain": [
       "<Figure size 432x288 with 2 Axes>"
      ]
     },
     "metadata": {
      "needs_background": "light"
     },
     "output_type": "display_data"
    }
   ],
   "source": [
    "text_counter=CountVectorizer(binary=True, stop_words='english', min_df=50)\n",
    "vectorized_data = text_counter.fit_transform(top['Combined'].values)\n",
    "data = np.append(vectorized_data.toarray(), top[['comms_num', 'score']].values, axis=1)\n",
    "data = np.append(data, OneHotEncoder().fit_transform(top['Predicted Sentiment'].values.reshape(-1, 1)).toarray(), axis=1)\n",
    "train_data, test_data, train_target, test_target = train_test_split(\n",
    "    data, top['Viral'], test_size=0.7, random_state=216)\n",
    "\n",
    "KN_model = GridSearchCV(estimator=KNeighborsClassifier(), param_grid={'n_neighbors': range(1, 30)})\n",
    "KN_model.fit(train_data, train_target)\n",
    "y_pred = KN_model.predict(test_data)\n",
    "get_metrics(KN_model, test_data, test_target, y_pred)"
   ]
  },
  {
   "cell_type": "markdown",
   "metadata": {},
   "source": [
    "### Hyperparameter Tuning for Naive Bayes Classifier for Determining Whether a Post will Go Viral"
   ]
  },
  {
   "cell_type": "code",
   "execution_count": null,
   "metadata": {},
   "outputs": [],
   "source": [
    "param_grid_nb = {\n",
    "    'alpha': np.logspace(0,-9, num=100)\n",
    "}\n",
    "\n",
    "text_counter=CountVectorizer(binary=True, stop_words='english', min_df=50)\n",
    "vectorized_data = text_counter.fit_transform(top['Combined'].values)\n",
    "data = np.append(vectorized_data.toarray(), top[['comms_num', 'score']].values, axis=1)\n",
    "\n",
    "train_data, test_data, train_target, test_target = train_test_split(\n",
    "    data, top['Viral'], test_size=0.7, random_state=216)\n",
    "\n",
    "nbModel_grid = GridSearchCV(estimator=MultinomialNB(), param_grid=param_grid_nb, verbose=1, cv=10, n_jobs=-1)\n",
    "nbModel_grid.fit(train_data, train_target)\n",
    "y_pred = nbModel_grid.predict(test_data)\n",
    "\n",
    "get_metrics(nbModel_grid)"
   ]
  },
  {
   "cell_type": "markdown",
   "metadata": {},
   "source": [
    "### Using TfidVectorizer"
   ]
  },
  {
   "cell_type": "code",
   "execution_count": 67,
   "metadata": {},
   "outputs": [
    {
     "name": "stderr",
     "output_type": "stream",
     "text": [
      "[nltk_data] Downloading package stopwords to /Users/mtome/nltk_data...\n",
      "[nltk_data]   Unzipping corpora/stopwords.zip.\n"
     ]
    }
   ],
   "source": [
    "import nltk\n",
    "from nltk.corpus import stopwords\n",
    "nltk.download('stopwords')\n",
    "from sklearn.feature_extraction.text import TfidfVectorizer\n",
    "\n",
    "vectorizer = TfidfVectorizer(max_features=2500, min_df=7, max_df=0.8, stop_words=stopwords.words('english'))\n",
    "vectorized_data = vectorizer.fit_transform(top['Combined'].values)"
   ]
  },
  {
   "cell_type": "code",
   "execution_count": 69,
   "metadata": {},
   "outputs": [
    {
     "name": "stdout",
     "output_type": "stream",
     "text": [
      "Fitting 10 folds for each of 100 candidates, totalling 1000 fits\n"
     ]
    },
    {
     "name": "stderr",
     "output_type": "stream",
     "text": [
      "[Parallel(n_jobs=-1)]: Using backend LokyBackend with 8 concurrent workers.\n",
      "[Parallel(n_jobs=-1)]: Done  34 tasks      | elapsed:    1.4s\n",
      "[Parallel(n_jobs=-1)]: Done 184 tasks      | elapsed:    5.5s\n",
      "[Parallel(n_jobs=-1)]: Done 434 tasks      | elapsed:   14.4s\n",
      "[Parallel(n_jobs=-1)]: Done 784 tasks      | elapsed:   26.8s\n",
      "[Parallel(n_jobs=-1)]: Done 1000 out of 1000 | elapsed:   33.8s finished\n"
     ]
    },
    {
     "name": "stdout",
     "output_type": "stream",
     "text": [
      "0.9012345679012346 : is the accuracy score\n",
      "0.12349397590361445 : is the precision score\n",
      "0.8424657534246576 : is the recall score\n",
      "0.21541155866900175 : is the f1 score\n"
     ]
    },
    {
     "data": {
      "image/png": "[encoded data removed]",
      "text/plain": [
       "<Figure size 432x288 with 2 Axes>"
      ]
     },
     "metadata": {
      "needs_background": "light"
     },
     "output_type": "display_data"
    }
   ],
   "source": [
    "data = np.append(vectorized_data.toarray(), top[['comms_num', 'score']].values, axis=1)\n",
    "\n",
    "train_data, test_data, train_target, test_target = train_test_split(\n",
    "    data, top['Viral'], test_size=0.7, random_state=216)\n",
    "\n",
    "nbModel_grid = GridSearchCV(estimator=MultinomialNB(), param_grid=param_grid_nb, verbose=1, cv=10, n_jobs=-1)\n",
    "nbModel_grid.fit(train_data, train_target)\n",
    "y_pred = nbModel_grid.predict(test_data)\n",
    "\n",
    "get_metrics(nbModel_grid, test_data, test_target, y_pred)"
   ]
  },
  {
   "cell_type": "code",
   "execution_count": 70,
   "metadata": {},
   "outputs": [
    {
     "name": "stdout",
     "output_type": "stream",
     "text": [
      "0.611331569664903 : is the accuracy score\n",
      "0.6163862472567666 : is the precision score\n",
      "0.8233339847566934 : is the recall score\n",
      "0.7049866131191432 : is the f1 score\n"
     ]
    },
    {
     "data": {
      "image/png": "[encoded data removed]",
      "text/plain": [
       "<Figure size 432x288 with 2 Axes>"
      ]
     },
     "metadata": {
      "needs_background": "light"
     },
     "output_type": "display_data"
    }
   ],
   "source": [
    "NB_model = make_pipeline(TfidfVectorizer(max_features=2500, min_df=7, max_df=0.8, stop_words=stopwords.words('english')), MultinomialNB())\n",
    "data = top['Combined']\n",
    "\n",
    "train_data, test_data, train_target, test_target = train_test_split(\n",
    "    data, top['Positive Predictive Value'], test_size=0.7, random_state=216)\n",
    "\n",
    "NB_model.fit(train_data, train_target)\n",
    "predicted = NB_model.predict(test_data)\n",
    "get_metrics(NB_model, test_data, test_target, predicted)"
   ]
  },
  {
   "cell_type": "markdown",
   "metadata": {},
   "source": [
    "### Predicting Sentiment"
   ]
  },
  {
   "cell_type": "code",
   "execution_count": 122,
   "metadata": {},
   "outputs": [],
   "source": [
    "# Normalize the sentiment to make it on a scale of (0, 1)\n",
    "sentiment_analysis = top.copy()\n",
    "sentiment_analysis['Sentiment'] = sentiment_analysis['Sentiment'] / sentiment_analysis['Sentiment'].max()\n",
    "\n",
    "vectorizer = TfidfVectorizer(max_features=2500, min_df=7, max_df=0.8, stop_words=stopwords.words('english'))\n",
    "vectorized_data = vectorizer.fit_transform(sentiment_analysis['Combined'].values)"
   ]
  },
  {
   "cell_type": "code",
   "execution_count": 123,
   "metadata": {},
   "outputs": [],
   "source": [
    "from sklearn.metrics import classification_report\n",
    "\n",
    "def get_mets(y_test, y_pred):\n",
    "    print(accuracy_score(y_test, y_pred), \": is the accuracy score\")\n",
    "    print(classification_report(y_test, y_pred))"
   ]
  },
  {
   "cell_type": "code",
   "execution_count": 124,
   "metadata": {},
   "outputs": [
    {
     "name": "stdout",
     "output_type": "stream",
     "text": [
      "0.9786155202821869 : is the accuracy score\n",
      "              precision    recall  f1-score   support\n",
      "\n",
      "         neg       0.86      0.09      0.17        64\n",
      "         neu       0.98      1.00      0.99      8872\n",
      "         pos       0.50      0.07      0.12       136\n",
      "\n",
      "    accuracy                           0.98      9072\n",
      "   macro avg       0.78      0.39      0.43      9072\n",
      "weighted avg       0.97      0.98      0.97      9072\n",
      "\n",
      "0.9779541446208113 : is the accuracy score\n",
      "              precision    recall  f1-score   support\n",
      "\n",
      "         neg       0.00      0.00      0.00        64\n",
      "         neu       0.98      1.00      0.99      8872\n",
      "         pos       0.00      0.00      0.00       136\n",
      "\n",
      "    accuracy                           0.98      9072\n",
      "   macro avg       0.33      0.33      0.33      9072\n",
      "weighted avg       0.96      0.98      0.97      9072\n",
      "\n"
     ]
    },
    {
     "name": "stderr",
     "output_type": "stream",
     "text": [
      "/Users/mtome/opt/anaconda3/lib/python3.8/site-packages/sklearn/metrics/_classification.py:1221: UndefinedMetricWarning: Precision and F-score are ill-defined and being set to 0.0 in labels with no predicted samples. Use `zero_division` parameter to control this behavior.\n",
      "  _warn_prf(average, modifier, msg_start, len(result))\n"
     ]
    },
    {
     "name": "stdout",
     "output_type": "stream",
     "text": [
      "0.9781746031746031 : is the accuracy score\n",
      "              precision    recall  f1-score   support\n",
      "\n",
      "         neg       0.75      0.05      0.09        64\n",
      "         neu       0.98      1.00      0.99      8872\n",
      "         pos       0.00      0.00      0.00       136\n",
      "\n",
      "    accuracy                           0.98      9072\n",
      "   macro avg       0.58      0.35      0.36      9072\n",
      "weighted avg       0.96      0.98      0.97      9072\n",
      "\n"
     ]
    },
    {
     "name": "stderr",
     "output_type": "stream",
     "text": [
      "/Users/mtome/opt/anaconda3/lib/python3.8/site-packages/sklearn/metrics/_classification.py:1221: UndefinedMetricWarning: Precision and F-score are ill-defined and being set to 0.0 in labels with no predicted samples. Use `zero_division` parameter to control this behavior.\n",
      "  _warn_prf(average, modifier, msg_start, len(result))\n"
     ]
    },
    {
     "name": "stdout",
     "output_type": "stream",
     "text": [
      "0.9781746031746031 : is the accuracy score\n",
      "              precision    recall  f1-score   support\n",
      "\n",
      "         neg       1.00      0.03      0.06        64\n",
      "         neu       0.98      1.00      0.99      8872\n",
      "         pos       0.00      0.00      0.00       136\n",
      "\n",
      "    accuracy                           0.98      9072\n",
      "   macro avg       0.66      0.34      0.35      9072\n",
      "weighted avg       0.96      0.98      0.97      9072\n",
      "\n"
     ]
    }
   ],
   "source": [
    "from sklearn.linear_model import SGDClassifier\n",
    "from sklearn.pipeline import make_pipeline\n",
    "\n",
    "ls_target = []\n",
    "for val in sentiment_analysis['Sentiment']:\n",
    "    if val >= .6:\n",
    "        ls_target.append('pos')\n",
    "    if .40 <= val < .60:\n",
    "        ls_target.append('neu')\n",
    "    if val < .40:\n",
    "        ls_target.append('neg')\n",
    "sentiment_analysis['Classified'] = ls_target\n",
    "\n",
    "train_data, test_data, train_target, test_target = train_test_split(\n",
    "    vectorized_data, ls_target, test_size=0.7, random_state=216)\n",
    "\n",
    "SGDclassifier = SGDClassifier(max_iter=1000)\n",
    "SGDclassifier.fit(train_data, train_target)\n",
    "y_pred = SGDclassifier.predict(test_data)\n",
    "get_mets(test_target, y_pred)\n",
    "\n",
    "logistic_model = LogisticRegression()\n",
    "logistic_model.fit(train_data, train_target)\n",
    "y_pred = logistic_model.predict(test_data)\n",
    "get_mets(test_target, y_pred)\n",
    "\n",
    "rfc = RandomForestClassifier()\n",
    "rfc.fit(train_data, train_target)\n",
    "y_pred = rfc.predict(test_data)\n",
    "get_mets(test_target, y_pred)\n",
    "\n",
    "svc = SVC()\n",
    "svc.fit(train_data, train_target)\n",
    "y_pred = svc.predict(test_data)\n",
    "get_mets(test_target, y_pred)"
   ]
  },
  {
   "cell_type": "markdown",
   "metadata": {},
   "source": [
    "### Using An Already Labeled Financial Sentiment Data Set to Perform Sentiment Analysis with Transfer Learning"
   ]
  },
  {
   "cell_type": "code",
   "execution_count": 117,
   "metadata": {},
   "outputs": [
    {
     "data": {
      "text/html": [
       "<div>\n",
       "<style scoped>\n",
       "    .dataframe tbody tr th:only-of-type {\n",
       "        vertical-align: middle;\n",
       "    }\n",
       "\n",
       "    .dataframe tbody tr th {\n",
       "        vertical-align: top;\n",
       "    }\n",
       "\n",
       "    .dataframe thead th {\n",
       "        text-align: right;\n",
       "    }\n",
       "</style>\n",
       "<table border=\"1\" class=\"dataframe\">\n",
       "  <thead>\n",
       "    <tr style=\"text-align: right;\">\n",
       "      <th></th>\n",
       "      <th>Sentence</th>\n",
       "      <th>Sentiment</th>\n",
       "    </tr>\n",
       "  </thead>\n",
       "  <tbody>\n",
       "    <tr>\n",
       "      <th>0</th>\n",
       "      <td>The GeoSolutions technology will leverage Bene...</td>\n",
       "      <td>positive</td>\n",
       "    </tr>\n",
       "    <tr>\n",
       "      <th>1</th>\n",
       "      <td>$ESI on lows, down $1.50 to $2.50 BK a real po...</td>\n",
       "      <td>negative</td>\n",
       "    </tr>\n",
       "    <tr>\n",
       "      <th>2</th>\n",
       "      <td>For the last quarter of 2010 , Componenta 's n...</td>\n",
       "      <td>positive</td>\n",
       "    </tr>\n",
       "    <tr>\n",
       "      <th>3</th>\n",
       "      <td>According to the Finnish-Russian Chamber of Co...</td>\n",
       "      <td>neutral</td>\n",
       "    </tr>\n",
       "    <tr>\n",
       "      <th>4</th>\n",
       "      <td>The Swedish buyout firm has sold its remaining...</td>\n",
       "      <td>neutral</td>\n",
       "    </tr>\n",
       "  </tbody>\n",
       "</table>\n",
       "</div>"
      ],
      "text/plain": [
       "                                            Sentence Sentiment\n",
       "0  The GeoSolutions technology will leverage Bene...  positive\n",
       "1  $ESI on lows, down $1.50 to $2.50 BK a real po...  negative\n",
       "2  For the last quarter of 2010 , Componenta 's n...  positive\n",
       "3  According to the Finnish-Russian Chamber of Co...   neutral\n",
       "4  The Swedish buyout firm has sold its remaining...   neutral"
      ]
     },
     "execution_count": 117,
     "metadata": {},
     "output_type": "execute_result"
    }
   ],
   "source": [
    "financial_sentiments = pd.read_csv('data.csv')\n",
    "financial_sentiments.head()"
   ]
  },
  {
   "cell_type": "code",
   "execution_count": 187,
   "metadata": {},
   "outputs": [],
   "source": [
    "vectorizer_log_model = TfidfVectorizer(max_features=2500, min_df=7, max_df=0.8, stop_words=stopwords.words('english'))\n",
    "vectorized_data = vectorizer_log_model.fit_transform(financial_sentiments['Sentence'].values)\n",
    "\n",
    "train_data, test_data, train_target, test_target = train_test_split(\n",
    "    vectorized_data, financial_sentiments['Sentiment'].values, test_size=0.7, random_state=216)"
   ]
  },
  {
   "cell_type": "code",
   "execution_count": 131,
   "metadata": {},
   "outputs": [
    {
     "name": "stdout",
     "output_type": "stream",
     "text": [
      "0.617359413202934 : is the accuracy score\n",
      "              precision    recall  f1-score   support\n",
      "\n",
      "    negative       0.30      0.27      0.28       599\n",
      "     neutral       0.69      0.72      0.71      2179\n",
      "    positive       0.62      0.61      0.61      1312\n",
      "\n",
      "    accuracy                           0.62      4090\n",
      "   macro avg       0.54      0.53      0.53      4090\n",
      "weighted avg       0.61      0.62      0.61      4090\n",
      "\n",
      "0.6528117359413202 : is the accuracy score\n",
      "              precision    recall  f1-score   support\n",
      "\n",
      "    negative       0.40      0.12      0.19       599\n",
      "     neutral       0.65      0.89      0.76      2179\n",
      "    positive       0.70      0.49      0.58      1312\n",
      "\n",
      "    accuracy                           0.65      4090\n",
      "   macro avg       0.58      0.50      0.51      4090\n",
      "weighted avg       0.63      0.65      0.62      4090\n",
      "\n",
      "0.6366748166259169 : is the accuracy score\n",
      "              precision    recall  f1-score   support\n",
      "\n",
      "    negative       0.26      0.13      0.17       599\n",
      "     neutral       0.67      0.84      0.75      2179\n",
      "    positive       0.65      0.54      0.59      1312\n",
      "\n",
      "    accuracy                           0.64      4090\n",
      "   macro avg       0.53      0.50      0.50      4090\n",
      "weighted avg       0.60      0.64      0.61      4090\n",
      "\n",
      "0.6242053789731051 : is the accuracy score\n",
      "              precision    recall  f1-score   support\n",
      "\n",
      "    negative       0.23      0.06      0.09       599\n",
      "     neutral       0.62      0.92      0.74      2179\n",
      "    positive       0.73      0.39      0.51      1312\n",
      "\n",
      "    accuracy                           0.62      4090\n",
      "   macro avg       0.53      0.46      0.45      4090\n",
      "weighted avg       0.60      0.62      0.57      4090\n",
      "\n"
     ]
    }
   ],
   "source": [
    "from sklearn.ensemble import RandomForestClassifier\n",
    "from sklearn.linear_model import LogisticRegression\n",
    "from sklearn.neighbors import KNeighborsClassifier\n",
    "from sklearn.svm import SVC\n",
    "\n",
    "SGDclassifier = SGDClassifier(max_iter=1000)\n",
    "SGDclassifier.fit(train_data, train_target)\n",
    "y_pred = SGDclassifier.predict(test_data)\n",
    "get_mets(test_target, y_pred)\n",
    "\n",
    "logistic_model_t = LogisticRegression()\n",
    "logistic_model_t.fit(train_data, train_target)\n",
    "y_pred = logistic_model_t.predict(test_data)\n",
    "get_mets(test_target, y_pred)\n",
    "\n",
    "rfc = RandomForestClassifier()\n",
    "rfc.fit(train_data, train_target)\n",
    "y_pred = rfc.predict(test_data)\n",
    "get_mets(test_target, y_pred)\n",
    "\n",
    "svc = SVC()\n",
    "svc.fit(train_data, train_target)\n",
    "y_pred = svc.predict(test_data)\n",
    "get_mets(test_target, y_pred)"
   ]
  },
  {
   "cell_type": "markdown",
   "metadata": {},
   "source": [
    "### Using the Previous Model to Predict Sentiment of the Reddit Posts to See if this will improve analysis\n",
    "There was a negligible effect on performance of the model, indicating that the point measure of sentiment is as good as the entire text of the post in informing predictions."
   ]
  },
  {
   "cell_type": "code",
   "execution_count": 133,
   "metadata": {},
   "outputs": [
    {
     "data": {
      "text/html": [
       "<div>\n",
       "<style scoped>\n",
       "    .dataframe tbody tr th:only-of-type {\n",
       "        vertical-align: middle;\n",
       "    }\n",
       "\n",
       "    .dataframe tbody tr th {\n",
       "        vertical-align: top;\n",
       "    }\n",
       "\n",
       "    .dataframe thead th {\n",
       "        text-align: right;\n",
       "    }\n",
       "</style>\n",
       "<table border=\"1\" class=\"dataframe\">\n",
       "  <thead>\n",
       "    <tr style=\"text-align: right;\">\n",
       "      <th></th>\n",
       "      <th>title</th>\n",
       "      <th>score</th>\n",
       "      <th>id</th>\n",
       "      <th>url</th>\n",
       "      <th>comms_num</th>\n",
       "      <th>created</th>\n",
       "      <th>body</th>\n",
       "      <th>timestamp</th>\n",
       "      <th>Viral</th>\n",
       "      <th>Combined</th>\n",
       "      <th>Ticker</th>\n",
       "      <th>returns</th>\n",
       "      <th>Positive Predictive Value</th>\n",
       "      <th>word map</th>\n",
       "      <th>Sentiment</th>\n",
       "      <th>Predicted Sentiment</th>\n",
       "    </tr>\n",
       "  </thead>\n",
       "  <tbody>\n",
       "    <tr>\n",
       "      <th>136</th>\n",
       "      <td>I’m so fucking proud of every single person in...</td>\n",
       "      <td>27451</td>\n",
       "      <td>l6ocfn</td>\n",
       "      <td>https://www.reddit.com/r/wallstreetbets/commen...</td>\n",
       "      <td>1471</td>\n",
       "      <td>1.611838e+09</td>\n",
       "      <td>This probably won’t get anywhere and I don’t c...</td>\n",
       "      <td>2021-01-28 14:50:34</td>\n",
       "      <td>1</td>\n",
       "      <td>I’m so fucking proud of every single person in...</td>\n",
       "      <td>GME</td>\n",
       "      <td>-0.442894</td>\n",
       "      <td>0</td>\n",
       "      <td>{'I’m': 2, 'so': 1, 'fucking': 4, 'proud': 3, ...</td>\n",
       "      <td>83</td>\n",
       "      <td>neutral</td>\n",
       "    </tr>\n",
       "    <tr>\n",
       "      <th>199</th>\n",
       "      <td>Why AMC, Blackberry, Nok went down during afte...</td>\n",
       "      <td>32730</td>\n",
       "      <td>l6ji9t</td>\n",
       "      <td>https://www.reddit.com/r/wallstreetbets/commen...</td>\n",
       "      <td>3876</td>\n",
       "      <td>1.611824e+09</td>\n",
       "      <td>Hedge fund managers, Short sellers, and Market...</td>\n",
       "      <td>2021-01-28 10:50:38</td>\n",
       "      <td>1</td>\n",
       "      <td>Why AMC, Blackberry, Nok went down during afte...</td>\n",
       "      <td>AMC</td>\n",
       "      <td>-0.566332</td>\n",
       "      <td>0</td>\n",
       "      <td>{'Why': 1, 'AMC': 1, 'Blackberry': 1, 'Nok': 1...</td>\n",
       "      <td>84</td>\n",
       "      <td>neutral</td>\n",
       "    </tr>\n",
       "    <tr>\n",
       "      <th>15993</th>\n",
       "      <td>I just bought $5,000 in $GME. I would not have...</td>\n",
       "      <td>73278</td>\n",
       "      <td>l78fuh</td>\n",
       "      <td>https://www.reddit.com/r/wallstreetbets/commen...</td>\n",
       "      <td>5293</td>\n",
       "      <td>1.611896e+09</td>\n",
       "      <td>I've been following /r/wallstreetbets for year...</td>\n",
       "      <td>2021-01-29 06:52:00</td>\n",
       "      <td>1</td>\n",
       "      <td>I just bought $5,000 in $GME. I would not have...</td>\n",
       "      <td>GME</td>\n",
       "      <td>0.678719</td>\n",
       "      <td>1</td>\n",
       "      <td>{'I': 10, 'just': 2, 'bought': 2, '5000': 1, '...</td>\n",
       "      <td>80</td>\n",
       "      <td>neutral</td>\n",
       "    </tr>\n",
       "    <tr>\n",
       "      <th>16009</th>\n",
       "      <td>GME YOLO update — Jan 28 2021</td>\n",
       "      <td>225870</td>\n",
       "      <td>l78uct</td>\n",
       "      <td>https://i.redd.it/opzucppb15e61.png</td>\n",
       "      <td>23309</td>\n",
       "      <td>1.611897e+09</td>\n",
       "      <td></td>\n",
       "      <td>2021-01-29 07:06:23</td>\n",
       "      <td>1</td>\n",
       "      <td>GME YOLO update — Jan 28 2021</td>\n",
       "      <td>GME</td>\n",
       "      <td>0.678719</td>\n",
       "      <td>1</td>\n",
       "      <td>{'GME': 1, 'YOLO': 1, 'update': 1, '—': 1, 'Ja...</td>\n",
       "      <td>86</td>\n",
       "      <td>neutral</td>\n",
       "    </tr>\n",
       "    <tr>\n",
       "      <th>16091</th>\n",
       "      <td>We cant let WSB get political no matter what</td>\n",
       "      <td>32053</td>\n",
       "      <td>l7ixaz</td>\n",
       "      <td>https://www.reddit.com/r/wallstreetbets/commen...</td>\n",
       "      <td>1881</td>\n",
       "      <td>1.611923e+09</td>\n",
       "      <td>I know everyone is excited about all the atten...</td>\n",
       "      <td>2021-01-29 14:16:46</td>\n",
       "      <td>1</td>\n",
       "      <td>We cant let WSB get political no matter what I...</td>\n",
       "      <td>GME</td>\n",
       "      <td>0.678719</td>\n",
       "      <td>1</td>\n",
       "      <td>{'We': 2, 'cant': 1, 'let': 2, 'WSB': 2, 'get'...</td>\n",
       "      <td>78</td>\n",
       "      <td>neutral</td>\n",
       "    </tr>\n",
       "  </tbody>\n",
       "</table>\n",
       "</div>"
      ],
      "text/plain": [
       "                                                   title   score      id  \\\n",
       "136    I’m so fucking proud of every single person in...   27451  l6ocfn   \n",
       "199    Why AMC, Blackberry, Nok went down during afte...   32730  l6ji9t   \n",
       "15993  I just bought $5,000 in $GME. I would not have...   73278  l78fuh   \n",
       "16009                      GME YOLO update — Jan 28 2021  225870  l78uct   \n",
       "16091       We cant let WSB get political no matter what   32053  l7ixaz   \n",
       "\n",
       "                                                     url  comms_num  \\\n",
       "136    https://www.reddit.com/r/wallstreetbets/commen...       1471   \n",
       "199    https://www.reddit.com/r/wallstreetbets/commen...       3876   \n",
       "15993  https://www.reddit.com/r/wallstreetbets/commen...       5293   \n",
       "16009                https://i.redd.it/opzucppb15e61.png      23309   \n",
       "16091  https://www.reddit.com/r/wallstreetbets/commen...       1881   \n",
       "\n",
       "            created                                               body  \\\n",
       "136    1.611838e+09  This probably won’t get anywhere and I don’t c...   \n",
       "199    1.611824e+09  Hedge fund managers, Short sellers, and Market...   \n",
       "15993  1.611896e+09  I've been following /r/wallstreetbets for year...   \n",
       "16009  1.611897e+09                                                      \n",
       "16091  1.611923e+09  I know everyone is excited about all the atten...   \n",
       "\n",
       "                 timestamp  Viral  \\\n",
       "136    2021-01-28 14:50:34      1   \n",
       "199    2021-01-28 10:50:38      1   \n",
       "15993  2021-01-29 06:52:00      1   \n",
       "16009  2021-01-29 07:06:23      1   \n",
       "16091  2021-01-29 14:16:46      1   \n",
       "\n",
       "                                                Combined Ticker   returns  \\\n",
       "136    I’m so fucking proud of every single person in...    GME -0.442894   \n",
       "199    Why AMC, Blackberry, Nok went down during afte...    AMC -0.566332   \n",
       "15993  I just bought $5,000 in $GME. I would not have...    GME  0.678719   \n",
       "16009                     GME YOLO update — Jan 28 2021     GME  0.678719   \n",
       "16091  We cant let WSB get political no matter what I...    GME  0.678719   \n",
       "\n",
       "       Positive Predictive Value  \\\n",
       "136                            0   \n",
       "199                            0   \n",
       "15993                          1   \n",
       "16009                          1   \n",
       "16091                          1   \n",
       "\n",
       "                                                word map  Sentiment  \\\n",
       "136    {'I’m': 2, 'so': 1, 'fucking': 4, 'proud': 3, ...         83   \n",
       "199    {'Why': 1, 'AMC': 1, 'Blackberry': 1, 'Nok': 1...         84   \n",
       "15993  {'I': 10, 'just': 2, 'bought': 2, '5000': 1, '...         80   \n",
       "16009  {'GME': 1, 'YOLO': 1, 'update': 1, '—': 1, 'Ja...         86   \n",
       "16091  {'We': 2, 'cant': 1, 'let': 2, 'WSB': 2, 'get'...         78   \n",
       "\n",
       "      Predicted Sentiment  \n",
       "136               neutral  \n",
       "199               neutral  \n",
       "15993             neutral  \n",
       "16009             neutral  \n",
       "16091             neutral  "
      ]
     },
     "execution_count": 133,
     "metadata": {},
     "output_type": "execute_result"
    }
   ],
   "source": [
    "vectorizer = TfidfVectorizer(max_features=1810, min_df=7, max_df=0.8, stop_words=stopwords.words('english'))\n",
    "vectorized_data = vectorizer.fit_transform(top['Combined'].values)\n",
    "\n",
    "top['Predicted Sentiment'] = logistic_model_t.predict(vectorized_data)"
   ]
  },
  {
   "cell_type": "code",
   "execution_count": 142,
   "metadata": {},
   "outputs": [
    {
     "name": "stdout",
     "output_type": "stream",
     "text": [
      "Fitting 10 folds for each of 100 candidates, totalling 1000 fits\n"
     ]
    },
    {
     "name": "stderr",
     "output_type": "stream",
     "text": [
      "[Parallel(n_jobs=-1)]: Using backend LokyBackend with 8 concurrent workers.\n",
      "[Parallel(n_jobs=-1)]: Done  34 tasks      | elapsed:    7.1s\n",
      "[Parallel(n_jobs=-1)]: Done 184 tasks      | elapsed:   10.8s\n",
      "[Parallel(n_jobs=-1)]: Done 434 tasks      | elapsed:   16.7s\n",
      "[Parallel(n_jobs=-1)]: Done 784 tasks      | elapsed:   25.4s\n",
      "[Parallel(n_jobs=-1)]: Done 1000 out of 1000 | elapsed:   30.6s finished\n"
     ]
    },
    {
     "name": "stdout",
     "output_type": "stream",
     "text": [
      "0.6140873015873016 : is the accuracy score\n",
      "0.624768375540457 : is the precision score\n",
      "0.7906976744186046 : is the recall score\n",
      "0.6980074182696455 : is the f1 score\n"
     ]
    },
    {
     "data": {
      "image/png": "[encoded data removed]",
      "text/plain": [
       "<Figure size 432x288 with 2 Axes>"
      ]
     },
     "metadata": {
      "needs_background": "light"
     },
     "output_type": "display_data"
    }
   ],
   "source": [
    "from sklearn.preprocessing import OneHotEncoder\n",
    "\n",
    "param_grid_nb = {\n",
    "    'alpha': np.logspace(0,-9, num=100)\n",
    "}\n",
    "\n",
    "text_counter=CountVectorizer(binary=True, stop_words='english', min_df=50)\n",
    "vectorized_data = text_counter.fit_transform(top['Combined'].values)\n",
    "data = np.append(vectorized_data.toarray(), OneHotEncoder().fit_transform(top['Predicted Sentiment'].values.reshape(-1, 1)).toarray(), axis=1)\n",
    "train_data, test_data, train_target, test_target = train_test_split(\n",
    "    data, top['Positive Predictive Value'], test_size=0.7, random_state=216)\n",
    "\n",
    "nbModel_grid = GridSearchCV(estimator=MultinomialNB(), param_grid=param_grid_nb, verbose=1, cv=10, n_jobs=-1)\n",
    "nbModel_grid.fit(train_data, train_target)\n",
    "y_test = test_target\n",
    "y_pred = nbModel_grid.predict(test_data)\n",
    "\n",
    "get_metrics(nbModel_grid, test_data, y_test, y_pred)"
   ]
  },
  {
   "cell_type": "markdown",
   "metadata": {},
   "source": [
    "### Using Sentiment as Added Input\n",
    "#### K Nearest Neighbor Classifier for Determining Whether a Post Will go Viral with Predicted Sentiment as Added Input"
   ]
  },
  {
   "cell_type": "code",
   "execution_count": 157,
   "metadata": {},
   "outputs": [
    {
     "name": "stdout",
     "output_type": "stream",
     "text": [
      "0.9987874779541446 : is the accuracy score\n",
      "0.9927007299270073 : is the precision score\n",
      "0.9315068493150684 : is the recall score\n",
      "0.96113074204947 : is the f1 score\n"
     ]
    },
    {
     "data": {
      "image/png": "[encoded data removed]",
      "text/plain": [
       "<Figure size 432x288 with 2 Axes>"
      ]
     },
     "metadata": {
      "needs_background": "light"
     },
     "output_type": "display_data"
    }
   ],
   "source": [
    "text_counter=CountVectorizer(binary=True, stop_words='english', min_df=50, max_features=1810)\n",
    "vectorized_data = text_counter.fit_transform(top['Combined'].values)\n",
    "data = np.append(vectorized_data.toarray(), top[['comms_num', 'score']].values, axis=1)\n",
    "data = np.append(data, OneHotEncoder().fit_transform(top['Predicted Sentiment'].values.reshape(-1, 1)).toarray(), axis=1)\n",
    "train_data, test_data, train_target, test_target = train_test_split(\n",
    "    data, top['Viral'], test_size=0.7, random_state=216)\n",
    "\n",
    "KN_model = GridSearchCV(estimator=KNeighborsClassifier(), param_grid={'n_neighbors': range(1, 30)})\n",
    "KN_model.fit(train_data, train_target)\n",
    "y_pred = KN_model.predict(test_data)\n",
    "get_metrics(KN_model, test_data, test_target, y_pred)"
   ]
  },
  {
   "cell_type": "code",
   "execution_count": 215,
   "metadata": {},
   "outputs": [
    {
     "name": "stdout",
     "output_type": "stream",
     "text": [
      "0.9847883597883598 : is the accuracy score\n",
      "0.6818181818181818 : is the precision score\n",
      "0.10273972602739725 : is the recall score\n",
      "0.17857142857142855 : is the f1 score\n"
     ]
    },
    {
     "data": {
      "image/png": "[encoded data removed]",
      "text/plain": [
       "<Figure size 432x288 with 2 Axes>"
      ]
     },
     "metadata": {
      "needs_background": "light"
     },
     "output_type": "display_data"
    }
   ],
   "source": [
    "text_counter=CountVectorizer(binary=True, stop_words='english', min_df=50, max_features=1810)\n",
    "vectorized_data = text_counter.fit_transform(top['Combined'].values)\n",
    "data = np.append(vectorized_data.toarray(), OneHotEncoder().fit_transform(top['Predicted Sentiment'].values.reshape(-1, 1)).toarray(), axis=1)\n",
    "train_data, test_data, train_target, test_target = train_test_split(\n",
    "    data, top['Viral'], test_size=0.7, random_state=216)\n",
    "\n",
    "KN_model = GridSearchCV(estimator=KNeighborsClassifier(), param_grid={'n_neighbors': range(1, 30)})\n",
    "KN_model.fit(train_data, train_target)\n",
    "y_pred = KN_model.predict(test_data)\n",
    "get_metrics(KN_model, test_data, test_target, y_pred)"
   ]
  },
  {
   "cell_type": "markdown",
   "metadata": {},
   "source": [
    "### Using Predicted Sentiment to Inform Viral Predictions on Larger Dataset\n",
    "Here we will see what viral posts the algorithm picks up in the larger dataset and see what stocks we can extract from these posts. We will check if our model generalizes well.\n",
    "* We are going to use a scraper to pull posts from reddit made today and then see what viral posts our algorithm picks out. We will monitor the stocks selected over a period of one week.\n",
    "* We will also monitor the submissions our algorithm marks as likely to go viral"
   ]
  },
  {
   "cell_type": "code",
   "execution_count": 201,
   "metadata": {},
   "outputs": [],
   "source": [
    "import os\n",
    "import praw\n",
    "# Scrape with praw\n",
    "client_id = os.getenv(\"CLIENT_ID\")\n",
    "client_secret = os.getenv(\"CLIENT_SECRET\")\n",
    "user_agent = os.getenv(\"USER_AGENT\")\n",
    "wsb = praw.Reddit(\n",
    "    client_id='vtfLOCSH5cCE-9uRQ02Caw', client_secret='Q8yZ6yT69KFyBmsnqknNAsif1yf4Dw', user_agent='WSB Scraping'\n",
    ").subreddit(\"wallstreetbets\")\n",
    "\n",
    "def download_data(ranked_by=\"hot\", **kwargs):\n",
    "    submissions = []\n",
    "    if ranked_by == \"hot\":\n",
    "        response = wsb.hot(**kwargs)\n",
    "    elif ranked_by == \"top\":\n",
    "        response = wsb.top(**kwargs)\n",
    "    elif ranked_by == \"new\":\n",
    "        response = wsb.new(**kwargs)\n",
    "\n",
    "    for submission in response:\n",
    "        post = []\n",
    "        post = [\n",
    "            submission.title,\n",
    "            submission.selftext,\n",
    "            submission.created_utc,\n",
    "            submission.score,\n",
    "            submission.num_comments\n",
    "        ]\n",
    "        submissions.append(post)\n",
    "    df = pd.DataFrame(\n",
    "        submissions,\n",
    "        columns=[\n",
    "            \"title\",\n",
    "            \"content\",\n",
    "            \"created_on\",\n",
    "            \"score\",\n",
    "            \"comms_num\"\n",
    "        ],\n",
    "    )\n",
    "    df[\"created_on\"] = pd.to_datetime(df[\"created_on\"], dayfirst=True, unit=\"s\")\n",
    "    return df"
   ]
  },
  {
   "cell_type": "code",
   "execution_count": 218,
   "metadata": {},
   "outputs": [],
   "source": [
    "p_new = download_data(\"top\")\n",
    "p_new['Combined'] = p_new['title'] + p_new['content']\n",
    "\n",
    "vectorized_data = vectorizer_log_model.transform(p_new['Combined'].values)\n",
    "\n",
    "p_new['Predicted Sentiment'] = logistic_model_t.predict(vectorized_data)\n",
    "\n",
    "vectorized_data = text_counter.transform(p_new['Combined'].values)\n",
    "\n",
    "#data = np.append(vectorized_data.toarray(), p_new[['comms_num', 'score']].values, axis=1)\n",
    "data = np.append(vectorized_data.toarray(), OneHotEncoder().fit_transform(p_new['Predicted Sentiment'].values.reshape(-1, 1)).toarray(), axis=1)\n",
    "\n",
    "p_new['Predicted Viral'] = KN_model.predict(data)"
   ]
  },
  {
   "cell_type": "code",
   "execution_count": 219,
   "metadata": {},
   "outputs": [
    {
     "data": {
      "text/html": [
       "<div>\n",
       "<style scoped>\n",
       "    .dataframe tbody tr th:only-of-type {\n",
       "        vertical-align: middle;\n",
       "    }\n",
       "\n",
       "    .dataframe tbody tr th {\n",
       "        vertical-align: top;\n",
       "    }\n",
       "\n",
       "    .dataframe thead th {\n",
       "        text-align: right;\n",
       "    }\n",
       "</style>\n",
       "<table border=\"1\" class=\"dataframe\">\n",
       "  <thead>\n",
       "    <tr style=\"text-align: right;\">\n",
       "      <th></th>\n",
       "      <th>title</th>\n",
       "      <th>content</th>\n",
       "      <th>created_on</th>\n",
       "      <th>score</th>\n",
       "      <th>comms_num</th>\n",
       "      <th>Combined</th>\n",
       "      <th>Predicted Sentiment</th>\n",
       "      <th>Predicted Viral</th>\n",
       "      <th>Ticker</th>\n",
       "    </tr>\n",
       "  </thead>\n",
       "  <tbody>\n",
       "    <tr>\n",
       "      <th>0</th>\n",
       "      <td>Times Square right now</td>\n",
       "      <td></td>\n",
       "      <td>2021-01-30 18:00:38</td>\n",
       "      <td>457356</td>\n",
       "      <td>13561</td>\n",
       "      <td>Times Square right now</td>\n",
       "      <td>neutral</td>\n",
       "      <td>0</td>\n",
       "      <td>[]</td>\n",
       "    </tr>\n",
       "    <tr>\n",
       "      <th>1</th>\n",
       "      <td>UPVOTE so everyone sees we got SUPPORT</td>\n",
       "      <td></td>\n",
       "      <td>2021-01-28 13:40:34</td>\n",
       "      <td>327864</td>\n",
       "      <td>12958</td>\n",
       "      <td>UPVOTE so everyone sees we got SUPPORT</td>\n",
       "      <td>neutral</td>\n",
       "      <td>0</td>\n",
       "      <td>[]</td>\n",
       "    </tr>\n",
       "    <tr>\n",
       "      <th>2</th>\n",
       "      <td>GME YOLO update — Jan 28 2021</td>\n",
       "      <td></td>\n",
       "      <td>2021-01-28 21:06:23</td>\n",
       "      <td>290278</td>\n",
       "      <td>23383</td>\n",
       "      <td>GME YOLO update — Jan 28 2021</td>\n",
       "      <td>neutral</td>\n",
       "      <td>0</td>\n",
       "      <td>[GME]</td>\n",
       "    </tr>\n",
       "    <tr>\n",
       "      <th>3</th>\n",
       "      <td>GME YOLO month-end update — Jan 2021</td>\n",
       "      <td></td>\n",
       "      <td>2021-01-29 21:04:45</td>\n",
       "      <td>257884</td>\n",
       "      <td>20333</td>\n",
       "      <td>GME YOLO month-end update — Jan 2021</td>\n",
       "      <td>neutral</td>\n",
       "      <td>1</td>\n",
       "      <td>[GME]</td>\n",
       "    </tr>\n",
       "    <tr>\n",
       "      <th>4</th>\n",
       "      <td>It’s treason then</td>\n",
       "      <td></td>\n",
       "      <td>2021-01-29 23:40:59</td>\n",
       "      <td>235642</td>\n",
       "      <td>4651</td>\n",
       "      <td>It’s treason then</td>\n",
       "      <td>neutral</td>\n",
       "      <td>0</td>\n",
       "      <td>[]</td>\n",
       "    </tr>\n",
       "    <tr>\n",
       "      <th>...</th>\n",
       "      <td>...</td>\n",
       "      <td>...</td>\n",
       "      <td>...</td>\n",
       "      <td>...</td>\n",
       "      <td>...</td>\n",
       "      <td>...</td>\n",
       "      <td>...</td>\n",
       "      <td>...</td>\n",
       "      <td>...</td>\n",
       "    </tr>\n",
       "    <tr>\n",
       "      <th>95</th>\n",
       "      <td>Some dickhead on CNN said the government shoul...</td>\n",
       "      <td></td>\n",
       "      <td>2021-01-27 20:46:54</td>\n",
       "      <td>103693</td>\n",
       "      <td>3639</td>\n",
       "      <td>Some dickhead on CNN said the government shoul...</td>\n",
       "      <td>neutral</td>\n",
       "      <td>0</td>\n",
       "      <td>[]</td>\n",
       "    </tr>\n",
       "    <tr>\n",
       "      <th>96</th>\n",
       "      <td>GME Today...</td>\n",
       "      <td></td>\n",
       "      <td>2021-03-10 20:42:16</td>\n",
       "      <td>103686</td>\n",
       "      <td>1668</td>\n",
       "      <td>GME Today...</td>\n",
       "      <td>neutral</td>\n",
       "      <td>0</td>\n",
       "      <td>[GME]</td>\n",
       "    </tr>\n",
       "    <tr>\n",
       "      <th>97</th>\n",
       "      <td>🔮WallStreetBets Predictions Tournament for Feb...</td>\n",
       "      <td></td>\n",
       "      <td>2022-02-27 04:41:53</td>\n",
       "      <td>103122</td>\n",
       "      <td>362</td>\n",
       "      <td>🔮WallStreetBets Predictions Tournament for Feb...</td>\n",
       "      <td>neutral</td>\n",
       "      <td>0</td>\n",
       "      <td>[]</td>\n",
       "    </tr>\n",
       "    <tr>\n",
       "      <th>98</th>\n",
       "      <td>DEEPFUCKINGVALUE just TWEETED! HOLD THE FUCKIN...</td>\n",
       "      <td></td>\n",
       "      <td>2021-02-03 17:06:10</td>\n",
       "      <td>102616</td>\n",
       "      <td>5146</td>\n",
       "      <td>DEEPFUCKINGVALUE just TWEETED! HOLD THE FUCKIN...</td>\n",
       "      <td>neutral</td>\n",
       "      <td>0</td>\n",
       "      <td>[]</td>\n",
       "    </tr>\n",
       "    <tr>\n",
       "      <th>99</th>\n",
       "      <td>Today wasn’t a bloodbath for $GME or $AMC. WE ...</td>\n",
       "      <td>DD I saw posted elsewhere: hedge funds are try...</td>\n",
       "      <td>2021-02-02 01:05:33</td>\n",
       "      <td>102094</td>\n",
       "      <td>5987</td>\n",
       "      <td>Today wasn’t a bloodbath for $GME or $AMC. WE ...</td>\n",
       "      <td>positive</td>\n",
       "      <td>0</td>\n",
       "      <td>[GME, AMC, Nasdaq]</td>\n",
       "    </tr>\n",
       "  </tbody>\n",
       "</table>\n",
       "<p>100 rows × 9 columns</p>\n",
       "</div>"
      ],
      "text/plain": [
       "                                                title  \\\n",
       "0                              Times Square right now   \n",
       "1              UPVOTE so everyone sees we got SUPPORT   \n",
       "2                       GME YOLO update — Jan 28 2021   \n",
       "3                GME YOLO month-end update — Jan 2021   \n",
       "4                                   It’s treason then   \n",
       "..                                                ...   \n",
       "95  Some dickhead on CNN said the government shoul...   \n",
       "96                                       GME Today...   \n",
       "97  🔮WallStreetBets Predictions Tournament for Feb...   \n",
       "98  DEEPFUCKINGVALUE just TWEETED! HOLD THE FUCKIN...   \n",
       "99  Today wasn’t a bloodbath for $GME or $AMC. WE ...   \n",
       "\n",
       "                                              content          created_on  \\\n",
       "0                                                     2021-01-30 18:00:38   \n",
       "1                                                     2021-01-28 13:40:34   \n",
       "2                                                     2021-01-28 21:06:23   \n",
       "3                                                     2021-01-29 21:04:45   \n",
       "4                                                     2021-01-29 23:40:59   \n",
       "..                                                ...                 ...   \n",
       "95                                                    2021-01-27 20:46:54   \n",
       "96                                                    2021-03-10 20:42:16   \n",
       "97                                                    2022-02-27 04:41:53   \n",
       "98                                                    2021-02-03 17:06:10   \n",
       "99  DD I saw posted elsewhere: hedge funds are try... 2021-02-02 01:05:33   \n",
       "\n",
       "     score  comms_num                                           Combined  \\\n",
       "0   457356      13561                             Times Square right now   \n",
       "1   327864      12958             UPVOTE so everyone sees we got SUPPORT   \n",
       "2   290278      23383                      GME YOLO update — Jan 28 2021   \n",
       "3   257884      20333               GME YOLO month-end update — Jan 2021   \n",
       "4   235642       4651                                  It’s treason then   \n",
       "..     ...        ...                                                ...   \n",
       "95  103693       3639  Some dickhead on CNN said the government shoul...   \n",
       "96  103686       1668                                       GME Today...   \n",
       "97  103122        362  🔮WallStreetBets Predictions Tournament for Feb...   \n",
       "98  102616       5146  DEEPFUCKINGVALUE just TWEETED! HOLD THE FUCKIN...   \n",
       "99  102094       5987  Today wasn’t a bloodbath for $GME or $AMC. WE ...   \n",
       "\n",
       "   Predicted Sentiment  Predicted Viral              Ticker  \n",
       "0              neutral                0                  []  \n",
       "1              neutral                0                  []  \n",
       "2              neutral                0               [GME]  \n",
       "3              neutral                1               [GME]  \n",
       "4              neutral                0                  []  \n",
       "..                 ...              ...                 ...  \n",
       "95             neutral                0                  []  \n",
       "96             neutral                0               [GME]  \n",
       "97             neutral                0                  []  \n",
       "98             neutral                0                  []  \n",
       "99            positive                0  [GME, AMC, Nasdaq]  \n",
       "\n",
       "[100 rows x 9 columns]"
      ]
     },
     "execution_count": 219,
     "metadata": {},
     "output_type": "execute_result"
    }
   ],
   "source": [
    "extract_tickers(p_new)"
   ]
  },
  {
   "cell_type": "code",
   "execution_count": 220,
   "metadata": {},
   "outputs": [
    {
     "data": {
      "text/html": [
       "<div>\n",
       "<style scoped>\n",
       "    .dataframe tbody tr th:only-of-type {\n",
       "        vertical-align: middle;\n",
       "    }\n",
       "\n",
       "    .dataframe tbody tr th {\n",
       "        vertical-align: top;\n",
       "    }\n",
       "\n",
       "    .dataframe thead th {\n",
       "        text-align: right;\n",
       "    }\n",
       "</style>\n",
       "<table border=\"1\" class=\"dataframe\">\n",
       "  <thead>\n",
       "    <tr style=\"text-align: right;\">\n",
       "      <th></th>\n",
       "      <th>title</th>\n",
       "      <th>content</th>\n",
       "      <th>created_on</th>\n",
       "      <th>score</th>\n",
       "      <th>comms_num</th>\n",
       "      <th>Combined</th>\n",
       "      <th>Predicted Sentiment</th>\n",
       "      <th>Predicted Viral</th>\n",
       "      <th>Ticker</th>\n",
       "    </tr>\n",
       "  </thead>\n",
       "  <tbody>\n",
       "    <tr>\n",
       "      <th>3</th>\n",
       "      <td>GME YOLO month-end update — Jan 2021</td>\n",
       "      <td></td>\n",
       "      <td>2021-01-29 21:04:45</td>\n",
       "      <td>257884</td>\n",
       "      <td>20333</td>\n",
       "      <td>GME YOLO month-end update — Jan 2021</td>\n",
       "      <td>neutral</td>\n",
       "      <td>1</td>\n",
       "      <td>[GME]</td>\n",
       "    </tr>\n",
       "    <tr>\n",
       "      <th>37</th>\n",
       "      <td>GME YOLO month-end update — Feb 2021</td>\n",
       "      <td></td>\n",
       "      <td>2021-02-26 21:07:18</td>\n",
       "      <td>147538</td>\n",
       "      <td>7805</td>\n",
       "      <td>GME YOLO month-end update — Feb 2021</td>\n",
       "      <td>neutral</td>\n",
       "      <td>1</td>\n",
       "      <td>[GME]</td>\n",
       "    </tr>\n",
       "  </tbody>\n",
       "</table>\n",
       "</div>"
      ],
      "text/plain": [
       "                                   title content          created_on   score  \\\n",
       "3   GME YOLO month-end update — Jan 2021         2021-01-29 21:04:45  257884   \n",
       "37  GME YOLO month-end update — Feb 2021         2021-02-26 21:07:18  147538   \n",
       "\n",
       "    comms_num                              Combined Predicted Sentiment  \\\n",
       "3       20333  GME YOLO month-end update — Jan 2021             neutral   \n",
       "37       7805  GME YOLO month-end update — Feb 2021             neutral   \n",
       "\n",
       "    Predicted Viral Ticker  \n",
       "3                 1  [GME]  \n",
       "37                1  [GME]  "
      ]
     },
     "execution_count": 220,
     "metadata": {},
     "output_type": "execute_result"
    }
   ],
   "source": [
    "p_new[p_new['Predicted Viral'] == 1]"
   ]
  },
  {
   "cell_type": "code",
   "execution_count": 221,
   "metadata": {},
   "outputs": [
    {
     "name": "stdout",
     "output_type": "stream",
     "text": [
      "{'GME', 'Nasdaq', 'Fox', 'Comcast', 'TD', 'AMC'}\n"
     ]
    }
   ],
   "source": [
    "promising = set()\n",
    "\n",
    "for ls in p_new['Ticker'].values:\n",
    "    for element in ls:\n",
    "        promising.add(element)\n",
    "\n",
    "print(promising)"
   ]
  }
 ],
 "metadata": {
  "kernelspec": {
   "display_name": "Python 3",
   "language": "python",
   "name": "python3"
  },
  "language_info": {
   "codemirror_mode": {
    "name": "ipython",
    "version": 3
   },
   "file_extension": ".py",
   "mimetype": "text/x-python",
   "name": "python",
   "nbconvert_exporter": "python",
   "pygments_lexer": "ipython3",
   "version": "3.8.5"
  }
 },
 "nbformat": 4,
 "nbformat_minor": 4
}
